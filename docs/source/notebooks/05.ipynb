{
 "cells": [
  {
   "cell_type": "markdown",
   "metadata": {},
   "source": [
    "# Operators: Sym"
   ]
  },
  {
   "cell_type": "code",
   "execution_count": 1,
   "metadata": {
    "execution": {
     "iopub.execute_input": "2022-02-02T20:24:00.708444Z",
     "iopub.status.busy": "2022-02-02T20:24:00.707467Z",
     "iopub.status.idle": "2022-02-02T20:24:01.156907Z",
     "shell.execute_reply": "2022-02-02T20:24:01.157313Z"
    }
   },
   "outputs": [],
   "source": [
    "import mechkit\n",
    "import numpy as np"
   ]
  },
  {
   "cell_type": "code",
   "execution_count": 2,
   "metadata": {
    "execution": {
     "iopub.execute_input": "2022-02-02T20:24:01.163038Z",
     "iopub.status.busy": "2022-02-02T20:24:01.162291Z",
     "iopub.status.idle": "2022-02-02T20:24:01.164922Z",
     "shell.execute_reply": "2022-02-02T20:24:01.164212Z"
    }
   },
   "outputs": [],
   "source": [
    "np.set_printoptions(\n",
    "    linewidth=140,\n",
    "    precision=2,\n",
    "    suppress=True,\n",
    ")\n",
    "np.random.seed(1)\n",
    "converter = mechkit.notation.Converter()"
   ]
  },
  {
   "cell_type": "code",
   "execution_count": 3,
   "metadata": {
    "execution": {
     "iopub.execute_input": "2022-02-02T20:24:01.169577Z",
     "iopub.status.busy": "2022-02-02T20:24:01.168855Z",
     "iopub.status.idle": "2022-02-02T20:24:01.170765Z",
     "shell.execute_reply": "2022-02-02T20:24:01.171312Z"
    }
   },
   "outputs": [],
   "source": [
    "def print_in_mandel9(tensor):\n",
    "    print(converter.to_mandel9(tensor))"
   ]
  },
  {
   "cell_type": "markdown",
   "metadata": {},
   "source": [
    "## Split random tensor of fourth order tensor into completely symmetric and skew parts"
   ]
  },
  {
   "cell_type": "code",
   "execution_count": 4,
   "metadata": {
    "execution": {
     "iopub.execute_input": "2022-02-02T20:24:01.176902Z",
     "iopub.status.busy": "2022-02-02T20:24:01.176220Z",
     "iopub.status.idle": "2022-02-02T20:24:01.178641Z",
     "shell.execute_reply": "2022-02-02T20:24:01.177974Z"
    }
   },
   "outputs": [],
   "source": [
    "tensor = np.random.rand(3, 3, 3, 3)\n",
    "sym_part = mechkit.operators.sym(\n",
    "    tensor, sym_axes=None\n",
    ")  # by default all axes are symmetrized\n",
    "skew_part = tensor - sym_part"
   ]
  },
  {
   "cell_type": "code",
   "execution_count": 5,
   "metadata": {
    "execution": {
     "iopub.execute_input": "2022-02-02T20:24:01.182961Z",
     "iopub.status.busy": "2022-02-02T20:24:01.182214Z",
     "iopub.status.idle": "2022-02-02T20:24:01.209299Z",
     "shell.execute_reply": "2022-02-02T20:24:01.208883Z"
    }
   },
   "outputs": [
    {
     "name": "stdout",
     "output_type": "stream",
     "text": [
      "tensor=\n",
      "[[ 0.42  0.15  0.4   0.31  0.13  0.72  0.18 -0.13 -0.3 ]\n",
      " [ 0.69  0.99  0.1   1.09  0.21  1.12  0.03 -0.19 -0.06]\n",
      " [ 0.14  0.93  0.88  0.76  0.81  0.69  0.27 -0.25 -0.45]\n",
      " [ 0.61  0.46  0.28  1.04  1.05  0.96  0.08 -0.22 -0.  ]\n",
      " [ 0.45  0.64  0.55  1.35  1.18  0.68 -0.04  0.2   0.43]\n",
      " [ 0.41  0.92  0.62  1.05  1.38  0.45  0.06  0.18 -0.14]\n",
      " [-0.02  0.27 -0.09  0.81  0.08 -0.24 -0.12  0.17  0.62]\n",
      " [-0.25 -0.2  -0.43  0.24  0.5   0.48  0.24 -0.27  0.34]\n",
      " [-0.35 -0.32 -0.17  0.6   0.03 -0.18 -0.33  0.17  0.07]]\n"
     ]
    }
   ],
   "source": [
    "print(\"tensor=\")\n",
    "print_in_mandel9(tensor)"
   ]
  },
  {
   "cell_type": "code",
   "execution_count": 6,
   "metadata": {
    "execution": {
     "iopub.execute_input": "2022-02-02T20:24:01.214376Z",
     "iopub.status.busy": "2022-02-02T20:24:01.213945Z",
     "iopub.status.idle": "2022-02-02T20:24:01.216687Z",
     "shell.execute_reply": "2022-02-02T20:24:01.216249Z"
    }
   },
   "outputs": [
    {
     "name": "stdout",
     "output_type": "stream",
     "text": [
      "sym_part=\n",
      "[[ 0.42  0.29  0.48  0.64  0.29  0.57  0.    0.    0.  ]\n",
      " [ 0.29  0.99  0.52  0.77  0.61  1.02  0.   -0.   -0.  ]\n",
      " [ 0.48  0.52  0.88  0.52  0.68  0.78  0.   -0.    0.  ]\n",
      " [ 0.64  0.77  0.52  1.04  1.11  0.87  0.    0.   -0.  ]\n",
      " [ 0.29  0.61  0.68  1.11  0.96  0.91  0.    0.   -0.  ]\n",
      " [ 0.57  1.02  0.78  0.87  0.91  0.58  0.    0.    0.  ]\n",
      " [-0.    0.    0.    0.    0.   -0.    0.   -0.   -0.  ]\n",
      " [-0.   -0.   -0.    0.    0.    0.    0.    0.   -0.  ]\n",
      " [-0.    0.   -0.    0.   -0.    0.    0.   -0.   -0.  ]]\n"
     ]
    }
   ],
   "source": [
    "print(\"sym_part=\")\n",
    "print_in_mandel9(sym_part)"
   ]
  },
  {
   "cell_type": "code",
   "execution_count": 7,
   "metadata": {
    "execution": {
     "iopub.execute_input": "2022-02-02T20:24:01.222052Z",
     "iopub.status.busy": "2022-02-02T20:24:01.221415Z",
     "iopub.status.idle": "2022-02-02T20:24:01.223595Z",
     "shell.execute_reply": "2022-02-02T20:24:01.224031Z"
    }
   },
   "outputs": [
    {
     "name": "stdout",
     "output_type": "stream",
     "text": [
      "skew_part=\n",
      "[[ 0.   -0.14 -0.08 -0.33 -0.16  0.16  0.18 -0.13 -0.3 ]\n",
      " [ 0.4  -0.   -0.42  0.32 -0.4   0.1   0.03 -0.19 -0.06]\n",
      " [-0.34  0.41 -0.    0.24  0.13 -0.1   0.27 -0.25 -0.45]\n",
      " [-0.03 -0.32 -0.24  0.   -0.06  0.09  0.08 -0.22 -0.  ]\n",
      " [ 0.16  0.02 -0.13  0.24  0.21 -0.22 -0.04  0.2   0.43]\n",
      " [-0.16 -0.1  -0.16  0.18  0.48 -0.13  0.06  0.18 -0.14]\n",
      " [-0.02  0.27 -0.09  0.81  0.08 -0.24 -0.12  0.17  0.62]\n",
      " [-0.25 -0.2  -0.43  0.24  0.5   0.48  0.24 -0.27  0.34]\n",
      " [-0.35 -0.32 -0.17  0.6   0.03 -0.18 -0.33  0.17  0.07]]\n"
     ]
    }
   ],
   "source": [
    "print(\"skew_part=\")\n",
    "print_in_mandel9(skew_part)"
   ]
  },
  {
   "cell_type": "code",
   "execution_count": 8,
   "metadata": {
    "execution": {
     "iopub.execute_input": "2022-02-02T20:24:01.229508Z",
     "iopub.status.busy": "2022-02-02T20:24:01.229095Z",
     "iopub.status.idle": "2022-02-02T20:24:01.231399Z",
     "shell.execute_reply": "2022-02-02T20:24:01.231002Z"
    }
   },
   "outputs": [
    {
     "name": "stdout",
     "output_type": "stream",
     "text": [
      "sym_part + skew_part\n",
      "[[ 0.42  0.15  0.4   0.31  0.13  0.72  0.18 -0.13 -0.3 ]\n",
      " [ 0.69  0.99  0.1   1.09  0.21  1.12  0.03 -0.19 -0.06]\n",
      " [ 0.14  0.93  0.88  0.76  0.81  0.69  0.27 -0.25 -0.45]\n",
      " [ 0.61  0.46  0.28  1.04  1.05  0.96  0.08 -0.22 -0.  ]\n",
      " [ 0.45  0.64  0.55  1.35  1.18  0.68 -0.04  0.2   0.43]\n",
      " [ 0.41  0.92  0.62  1.05  1.38  0.45  0.06  0.18 -0.14]\n",
      " [-0.02  0.27 -0.09  0.81  0.08 -0.24 -0.12  0.17  0.62]\n",
      " [-0.25 -0.2  -0.43  0.24  0.5   0.48  0.24 -0.27  0.34]\n",
      " [-0.35 -0.32 -0.17  0.6   0.03 -0.18 -0.33  0.17  0.07]]\n"
     ]
    }
   ],
   "source": [
    "print(\"sym_part + skew_part\")\n",
    "print_in_mandel9(sym_part + skew_part)\n",
    "assert np.allclose(tensor, sym_part + skew_part)"
   ]
  },
  {
   "cell_type": "markdown",
   "metadata": {},
   "source": [
    "## Split into part which has inner symmetry and the remaining part"
   ]
  },
  {
   "cell_type": "code",
   "execution_count": 9,
   "metadata": {
    "execution": {
     "iopub.execute_input": "2022-02-02T20:24:01.234615Z",
     "iopub.status.busy": "2022-02-02T20:24:01.234169Z",
     "iopub.status.idle": "2022-02-02T20:24:01.236246Z",
     "shell.execute_reply": "2022-02-02T20:24:01.235878Z"
    }
   },
   "outputs": [],
   "source": [
    "sym_inner_part = mechkit.operators.Sym_Fourth_Order_Special(label=\"inner\")(tensor)\n",
    "remaining = tensor - sym_inner_part"
   ]
  },
  {
   "cell_type": "code",
   "execution_count": 10,
   "metadata": {
    "execution": {
     "iopub.execute_input": "2022-02-02T20:24:01.240052Z",
     "iopub.status.busy": "2022-02-02T20:24:01.239637Z",
     "iopub.status.idle": "2022-02-02T20:24:01.242750Z",
     "shell.execute_reply": "2022-02-02T20:24:01.243122Z"
    }
   },
   "outputs": [
    {
     "name": "stdout",
     "output_type": "stream",
     "text": [
      "tensor=\n",
      "[[ 0.42  0.15  0.4   0.31  0.13  0.72  0.18 -0.13 -0.3 ]\n",
      " [ 0.69  0.99  0.1   1.09  0.21  1.12  0.03 -0.19 -0.06]\n",
      " [ 0.14  0.93  0.88  0.76  0.81  0.69  0.27 -0.25 -0.45]\n",
      " [ 0.61  0.46  0.28  1.04  1.05  0.96  0.08 -0.22 -0.  ]\n",
      " [ 0.45  0.64  0.55  1.35  1.18  0.68 -0.04  0.2   0.43]\n",
      " [ 0.41  0.92  0.62  1.05  1.38  0.45  0.06  0.18 -0.14]\n",
      " [-0.02  0.27 -0.09  0.81  0.08 -0.24 -0.12  0.17  0.62]\n",
      " [-0.25 -0.2  -0.43  0.24  0.5   0.48  0.24 -0.27  0.34]\n",
      " [-0.35 -0.32 -0.17  0.6   0.03 -0.18 -0.33  0.17  0.07]]\n"
     ]
    }
   ],
   "source": [
    "print(\"tensor=\")\n",
    "print_in_mandel9(tensor)"
   ]
  },
  {
   "cell_type": "code",
   "execution_count": 11,
   "metadata": {
    "execution": {
     "iopub.execute_input": "2022-02-02T20:24:01.248495Z",
     "iopub.status.busy": "2022-02-02T20:24:01.247917Z",
     "iopub.status.idle": "2022-02-02T20:24:01.251127Z",
     "shell.execute_reply": "2022-02-02T20:24:01.251581Z"
    }
   },
   "outputs": [
    {
     "name": "stdout",
     "output_type": "stream",
     "text": [
      "sym_inner_part=\n",
      "[[ 0.42  0.42  0.27  0.46  0.29  0.57  0.    0.    0.  ]\n",
      " [ 0.42  0.99  0.52  0.77  0.42  1.02  0.   -0.    0.  ]\n",
      " [ 0.27  0.52  0.88  0.52  0.68  0.65  0.    0.   -0.  ]\n",
      " [ 0.46  0.77  0.52  1.04  1.2   1.   -0.    0.    0.  ]\n",
      " [ 0.29  0.42  0.68  1.2   1.18  1.03 -0.    0.   -0.  ]\n",
      " [ 0.57  1.02  0.65  1.    1.03  0.45  0.   -0.    0.  ]\n",
      " [ 0.    0.   -0.   -0.    0.    0.   -0.    0.    0.  ]\n",
      " [ 0.    0.    0.    0.    0.   -0.    0.   -0.    0.  ]\n",
      " [ 0.    0.   -0.    0.    0.    0.   -0.   -0.    0.  ]]\n"
     ]
    }
   ],
   "source": [
    "print(\"sym_inner_part=\")\n",
    "print_in_mandel9(sym_inner_part)"
   ]
  },
  {
   "cell_type": "code",
   "execution_count": 12,
   "metadata": {
    "execution": {
     "iopub.execute_input": "2022-02-02T20:24:01.259184Z",
     "iopub.status.busy": "2022-02-02T20:24:01.258359Z",
     "iopub.status.idle": "2022-02-02T20:24:01.261581Z",
     "shell.execute_reply": "2022-02-02T20:24:01.260972Z"
    }
   },
   "outputs": [
    {
     "name": "stdout",
     "output_type": "stream",
     "text": [
      "remaining=\n",
      "[[-0.   -0.27  0.13 -0.15 -0.16  0.16  0.18 -0.13 -0.3 ]\n",
      " [ 0.27  0.   -0.41  0.32 -0.21  0.1   0.03 -0.19 -0.06]\n",
      " [-0.13  0.41 -0.    0.24  0.13  0.03  0.27 -0.25 -0.45]\n",
      " [ 0.15 -0.32 -0.24  0.   -0.15 -0.05  0.08 -0.22 -0.  ]\n",
      " [ 0.16  0.21 -0.13  0.15 -0.   -0.35 -0.04  0.2   0.43]\n",
      " [-0.16 -0.1  -0.03  0.05  0.35  0.    0.06  0.18 -0.14]\n",
      " [-0.02  0.27 -0.09  0.81  0.08 -0.24 -0.12  0.17  0.62]\n",
      " [-0.25 -0.2  -0.43  0.24  0.5   0.48  0.24 -0.27  0.34]\n",
      " [-0.35 -0.32 -0.17  0.6   0.03 -0.18 -0.33  0.17  0.07]]\n"
     ]
    }
   ],
   "source": [
    "print(\"remaining=\")\n",
    "print_in_mandel9(remaining)"
   ]
  }
 ],
 "metadata": {
  "kernelspec": {
   "display_name": "Python 3",
   "language": "python",
   "name": "python3"
  },
  "language_info": {
   "codemirror_mode": {
    "name": "ipython",
    "version": 3
   },
   "file_extension": ".py",
   "mimetype": "text/x-python",
   "name": "python",
   "nbconvert_exporter": "python",
   "pygments_lexer": "ipython3",
   "version": "3.9.7"
  }
 },
 "nbformat": 4,
 "nbformat_minor": 2
}
