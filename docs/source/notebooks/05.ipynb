{
 "cells": [
  {
   "cell_type": "markdown",
   "id": "2a8ea42d",
   "metadata": {},
   "source": [
    "# Operators: Sym"
   ]
  },
  {
   "cell_type": "code",
   "execution_count": 1,
   "id": "aeedd70d",
   "metadata": {
    "execution": {
     "iopub.execute_input": "2022-02-03T15:49:11.663294Z",
     "iopub.status.busy": "2022-02-03T15:49:11.657933Z",
     "iopub.status.idle": "2022-02-03T15:49:12.045049Z",
     "shell.execute_reply": "2022-02-03T15:49:12.045357Z"
    }
   },
   "outputs": [],
   "source": [
    "import mechkit\n",
    "import numpy as np"
   ]
  },
  {
   "cell_type": "code",
   "execution_count": 2,
   "id": "c32ad1da",
   "metadata": {
    "execution": {
     "iopub.execute_input": "2022-02-03T15:49:12.048444Z",
     "iopub.status.busy": "2022-02-03T15:49:12.048080Z",
     "iopub.status.idle": "2022-02-03T15:49:12.050020Z",
     "shell.execute_reply": "2022-02-03T15:49:12.049648Z"
    }
   },
   "outputs": [],
   "source": [
    "np.set_printoptions(\n",
    "    linewidth=140,\n",
    "    precision=2,\n",
    "    suppress=True,\n",
    ")\n",
    "np.random.seed(1)\n",
    "converter = mechkit.notation.Converter()"
   ]
  },
  {
   "cell_type": "code",
   "execution_count": 3,
   "id": "07169efe",
   "metadata": {
    "execution": {
     "iopub.execute_input": "2022-02-03T15:49:12.052505Z",
     "iopub.status.busy": "2022-02-03T15:49:12.052136Z",
     "iopub.status.idle": "2022-02-03T15:49:12.053982Z",
     "shell.execute_reply": "2022-02-03T15:49:12.053619Z"
    }
   },
   "outputs": [],
   "source": [
    "def print_in_mandel9(tensor):\n",
    "    print(converter.to_mandel9(tensor))"
   ]
  },
  {
   "cell_type": "code",
   "execution_count": 4,
   "id": "4921fefc",
   "metadata": {
    "execution": {
     "iopub.execute_input": "2022-02-03T15:49:12.056884Z",
     "iopub.status.busy": "2022-02-03T15:49:12.056483Z",
     "iopub.status.idle": "2022-02-03T15:49:12.058368Z",
     "shell.execute_reply": "2022-02-03T15:49:12.057998Z"
    }
   },
   "outputs": [],
   "source": [
    "# ## Split random tensor of fourth order into completely symmetric and skew parts\n",
    "tensor = np.random.rand(3, 3, 3, 3)\n",
    "sym_operator = mechkit.operators.Sym(axes=None)  # by default all axes are symmetrized\n",
    "sym_part = sym_operator(tensor)\n",
    "skew_part = tensor - sym_part"
   ]
  },
  {
   "cell_type": "code",
   "execution_count": 5,
   "id": "8fdf828b",
   "metadata": {
    "execution": {
     "iopub.execute_input": "2022-02-03T15:49:12.060902Z",
     "iopub.status.busy": "2022-02-03T15:49:12.060476Z",
     "iopub.status.idle": "2022-02-03T15:49:12.085024Z",
     "shell.execute_reply": "2022-02-03T15:49:12.085313Z"
    }
   },
   "outputs": [
    {
     "name": "stdout",
     "output_type": "stream",
     "text": [
      "tensor=\n",
      "[[ 0.42  0.15  0.4   0.31  0.13  0.72  0.18 -0.13 -0.3 ]\n",
      " [ 0.69  0.99  0.1   1.09  0.21  1.12  0.03 -0.19 -0.06]\n",
      " [ 0.14  0.93  0.88  0.76  0.81  0.69  0.27 -0.25 -0.45]\n",
      " [ 0.61  0.46  0.28  1.04  1.05  0.96  0.08 -0.22 -0.  ]\n",
      " [ 0.45  0.64  0.55  1.35  1.18  0.68 -0.04  0.2   0.43]\n",
      " [ 0.41  0.92  0.62  1.05  1.38  0.45  0.06  0.18 -0.14]\n",
      " [-0.02  0.27 -0.09  0.81  0.08 -0.24 -0.12  0.17  0.62]\n",
      " [-0.25 -0.2  -0.43  0.24  0.5   0.48  0.24 -0.27  0.34]\n",
      " [-0.35 -0.32 -0.17  0.6   0.03 -0.18 -0.33  0.17  0.07]]\n"
     ]
    }
   ],
   "source": [
    "print(\"tensor=\")\n",
    "print_in_mandel9(tensor)"
   ]
  },
  {
   "cell_type": "code",
   "execution_count": 6,
   "id": "d20afe3b",
   "metadata": {
    "execution": {
     "iopub.execute_input": "2022-02-03T15:49:12.088543Z",
     "iopub.status.busy": "2022-02-03T15:49:12.088173Z",
     "iopub.status.idle": "2022-02-03T15:49:12.090538Z",
     "shell.execute_reply": "2022-02-03T15:49:12.090213Z"
    }
   },
   "outputs": [
    {
     "name": "stdout",
     "output_type": "stream",
     "text": [
      "sym_part=\n",
      "[[ 0.42  0.29  0.48  0.64  0.29  0.57  0.    0.    0.  ]\n",
      " [ 0.29  0.99  0.52  0.77  0.61  1.02  0.   -0.   -0.  ]\n",
      " [ 0.48  0.52  0.88  0.52  0.68  0.78  0.   -0.    0.  ]\n",
      " [ 0.64  0.77  0.52  1.04  1.11  0.87  0.    0.   -0.  ]\n",
      " [ 0.29  0.61  0.68  1.11  0.96  0.91  0.    0.   -0.  ]\n",
      " [ 0.57  1.02  0.78  0.87  0.91  0.58  0.    0.    0.  ]\n",
      " [-0.    0.    0.    0.    0.   -0.    0.   -0.   -0.  ]\n",
      " [-0.   -0.   -0.    0.    0.    0.    0.    0.   -0.  ]\n",
      " [-0.    0.   -0.    0.   -0.    0.    0.   -0.   -0.  ]]\n"
     ]
    }
   ],
   "source": [
    "print(\"sym_part=\")\n",
    "print_in_mandel9(sym_part)"
   ]
  },
  {
   "cell_type": "code",
   "execution_count": 7,
   "id": "3cadb7d3",
   "metadata": {
    "execution": {
     "iopub.execute_input": "2022-02-03T15:49:12.093703Z",
     "iopub.status.busy": "2022-02-03T15:49:12.093336Z",
     "iopub.status.idle": "2022-02-03T15:49:12.095395Z",
     "shell.execute_reply": "2022-02-03T15:49:12.095682Z"
    }
   },
   "outputs": [
    {
     "name": "stdout",
     "output_type": "stream",
     "text": [
      "skew_part=\n",
      "[[ 0.   -0.14 -0.08 -0.33 -0.16  0.16  0.18 -0.13 -0.3 ]\n",
      " [ 0.4  -0.   -0.42  0.32 -0.4   0.1   0.03 -0.19 -0.06]\n",
      " [-0.34  0.41 -0.    0.24  0.13 -0.1   0.27 -0.25 -0.45]\n",
      " [-0.03 -0.32 -0.24  0.   -0.06  0.09  0.08 -0.22 -0.  ]\n",
      " [ 0.16  0.02 -0.13  0.24  0.21 -0.22 -0.04  0.2   0.43]\n",
      " [-0.16 -0.1  -0.16  0.18  0.48 -0.13  0.06  0.18 -0.14]\n",
      " [-0.02  0.27 -0.09  0.81  0.08 -0.24 -0.12  0.17  0.62]\n",
      " [-0.25 -0.2  -0.43  0.24  0.5   0.48  0.24 -0.27  0.34]\n",
      " [-0.35 -0.32 -0.17  0.6   0.03 -0.18 -0.33  0.17  0.07]]\n"
     ]
    }
   ],
   "source": [
    "print(\"skew_part=\")\n",
    "print_in_mandel9(skew_part)"
   ]
  },
  {
   "cell_type": "code",
   "execution_count": 8,
   "id": "6c9553a7",
   "metadata": {
    "execution": {
     "iopub.execute_input": "2022-02-03T15:49:12.099024Z",
     "iopub.status.busy": "2022-02-03T15:49:12.098654Z",
     "iopub.status.idle": "2022-02-03T15:49:12.100626Z",
     "shell.execute_reply": "2022-02-03T15:49:12.100964Z"
    }
   },
   "outputs": [
    {
     "name": "stdout",
     "output_type": "stream",
     "text": [
      "sym_part + skew_part\n",
      "[[ 0.42  0.15  0.4   0.31  0.13  0.72  0.18 -0.13 -0.3 ]\n",
      " [ 0.69  0.99  0.1   1.09  0.21  1.12  0.03 -0.19 -0.06]\n",
      " [ 0.14  0.93  0.88  0.76  0.81  0.69  0.27 -0.25 -0.45]\n",
      " [ 0.61  0.46  0.28  1.04  1.05  0.96  0.08 -0.22 -0.  ]\n",
      " [ 0.45  0.64  0.55  1.35  1.18  0.68 -0.04  0.2   0.43]\n",
      " [ 0.41  0.92  0.62  1.05  1.38  0.45  0.06  0.18 -0.14]\n",
      " [-0.02  0.27 -0.09  0.81  0.08 -0.24 -0.12  0.17  0.62]\n",
      " [-0.25 -0.2  -0.43  0.24  0.5   0.48  0.24 -0.27  0.34]\n",
      " [-0.35 -0.32 -0.17  0.6   0.03 -0.18 -0.33  0.17  0.07]]\n"
     ]
    }
   ],
   "source": [
    "print(\"sym_part + skew_part\")\n",
    "print_in_mandel9(sym_part + skew_part)\n",
    "assert np.allclose(tensor, sym_part + skew_part)"
   ]
  },
  {
   "cell_type": "code",
   "execution_count": 9,
   "id": "636c1d8a",
   "metadata": {
    "execution": {
     "iopub.execute_input": "2022-02-03T15:49:12.103587Z",
     "iopub.status.busy": "2022-02-03T15:49:12.103215Z",
     "iopub.status.idle": "2022-02-03T15:49:12.105193Z",
     "shell.execute_reply": "2022-02-03T15:49:12.104874Z"
    }
   },
   "outputs": [],
   "source": [
    "# ## Split into part which has inner symmetry and the remaining part\n",
    "sym_inner_part = mechkit.operators.Sym_Fourth_Order_Special(label=\"inner\")(tensor)\n",
    "remaining = tensor - sym_inner_part"
   ]
  },
  {
   "cell_type": "code",
   "execution_count": 10,
   "id": "6befe100",
   "metadata": {
    "execution": {
     "iopub.execute_input": "2022-02-03T15:49:12.107994Z",
     "iopub.status.busy": "2022-02-03T15:49:12.107251Z",
     "iopub.status.idle": "2022-02-03T15:49:12.110211Z",
     "shell.execute_reply": "2022-02-03T15:49:12.109836Z"
    }
   },
   "outputs": [
    {
     "name": "stdout",
     "output_type": "stream",
     "text": [
      "tensor=\n",
      "[[ 0.42  0.15  0.4   0.31  0.13  0.72  0.18 -0.13 -0.3 ]\n",
      " [ 0.69  0.99  0.1   1.09  0.21  1.12  0.03 -0.19 -0.06]\n",
      " [ 0.14  0.93  0.88  0.76  0.81  0.69  0.27 -0.25 -0.45]\n",
      " [ 0.61  0.46  0.28  1.04  1.05  0.96  0.08 -0.22 -0.  ]\n",
      " [ 0.45  0.64  0.55  1.35  1.18  0.68 -0.04  0.2   0.43]\n",
      " [ 0.41  0.92  0.62  1.05  1.38  0.45  0.06  0.18 -0.14]\n",
      " [-0.02  0.27 -0.09  0.81  0.08 -0.24 -0.12  0.17  0.62]\n",
      " [-0.25 -0.2  -0.43  0.24  0.5   0.48  0.24 -0.27  0.34]\n",
      " [-0.35 -0.32 -0.17  0.6   0.03 -0.18 -0.33  0.17  0.07]]\n"
     ]
    }
   ],
   "source": [
    "print(\"tensor=\")\n",
    "print_in_mandel9(tensor)"
   ]
  },
  {
   "cell_type": "code",
   "execution_count": 11,
   "id": "b958423a",
   "metadata": {
    "execution": {
     "iopub.execute_input": "2022-02-03T15:49:12.113277Z",
     "iopub.status.busy": "2022-02-03T15:49:12.112908Z",
     "iopub.status.idle": "2022-02-03T15:49:12.115073Z",
     "shell.execute_reply": "2022-02-03T15:49:12.114698Z"
    }
   },
   "outputs": [
    {
     "name": "stdout",
     "output_type": "stream",
     "text": [
      "sym_inner_part=\n",
      "[[ 0.42  0.42  0.27  0.46  0.29  0.57  0.    0.    0.  ]\n",
      " [ 0.42  0.99  0.52  0.77  0.42  1.02  0.   -0.    0.  ]\n",
      " [ 0.27  0.52  0.88  0.52  0.68  0.65  0.    0.   -0.  ]\n",
      " [ 0.46  0.77  0.52  1.04  1.2   1.   -0.    0.    0.  ]\n",
      " [ 0.29  0.42  0.68  1.2   1.18  1.03 -0.    0.   -0.  ]\n",
      " [ 0.57  1.02  0.65  1.    1.03  0.45  0.   -0.    0.  ]\n",
      " [ 0.    0.   -0.   -0.    0.    0.   -0.    0.    0.  ]\n",
      " [ 0.    0.    0.    0.    0.   -0.    0.   -0.    0.  ]\n",
      " [ 0.    0.   -0.    0.    0.    0.   -0.   -0.    0.  ]]\n"
     ]
    }
   ],
   "source": [
    "print(\"sym_inner_part=\")\n",
    "print_in_mandel9(sym_inner_part)"
   ]
  },
  {
   "cell_type": "code",
   "execution_count": 12,
   "id": "9ce72e1d",
   "metadata": {
    "execution": {
     "iopub.execute_input": "2022-02-03T15:49:12.118041Z",
     "iopub.status.busy": "2022-02-03T15:49:12.117677Z",
     "iopub.status.idle": "2022-02-03T15:49:12.119871Z",
     "shell.execute_reply": "2022-02-03T15:49:12.119499Z"
    }
   },
   "outputs": [
    {
     "name": "stdout",
     "output_type": "stream",
     "text": [
      "remaining=\n",
      "[[-0.   -0.27  0.13 -0.15 -0.16  0.16  0.18 -0.13 -0.3 ]\n",
      " [ 0.27  0.   -0.41  0.32 -0.21  0.1   0.03 -0.19 -0.06]\n",
      " [-0.13  0.41 -0.    0.24  0.13  0.03  0.27 -0.25 -0.45]\n",
      " [ 0.15 -0.32 -0.24  0.   -0.15 -0.05  0.08 -0.22 -0.  ]\n",
      " [ 0.16  0.21 -0.13  0.15 -0.   -0.35 -0.04  0.2   0.43]\n",
      " [-0.16 -0.1  -0.03  0.05  0.35  0.    0.06  0.18 -0.14]\n",
      " [-0.02  0.27 -0.09  0.81  0.08 -0.24 -0.12  0.17  0.62]\n",
      " [-0.25 -0.2  -0.43  0.24  0.5   0.48  0.24 -0.27  0.34]\n",
      " [-0.35 -0.32 -0.17  0.6   0.03 -0.18 -0.33  0.17  0.07]]\n"
     ]
    }
   ],
   "source": [
    "print(\"remaining=\")\n",
    "print_in_mandel9(remaining)"
   ]
  }
 ],
 "metadata": {
  "jupytext": {
   "cell_metadata_filter": "-all",
   "main_language": "python",
   "notebook_metadata_filter": "-all"
  },
  "language_info": {
   "codemirror_mode": {
    "name": "ipython",
    "version": 3
   },
   "file_extension": ".py",
   "mimetype": "text/x-python",
   "name": "python",
   "nbconvert_exporter": "python",
   "pygments_lexer": "ipython3",
   "version": "3.9.7"
  }
 },
 "nbformat": 4,
 "nbformat_minor": 5
}
