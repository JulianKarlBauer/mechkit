{
 "cells": [
  {
   "cell_type": "markdown",
   "id": "7d92f971",
   "metadata": {},
   "source": [
    "# Operators: Sym"
   ]
  },
  {
   "cell_type": "code",
   "execution_count": 1,
   "id": "b1967597",
   "metadata": {
    "execution": {
     "iopub.execute_input": "2022-02-03T13:20:03.310851Z",
     "iopub.status.busy": "2022-02-03T13:20:03.309211Z",
     "iopub.status.idle": "2022-02-03T13:20:03.695713Z",
     "shell.execute_reply": "2022-02-03T13:20:03.695279Z"
    }
   },
   "outputs": [],
   "source": [
    "import mechkit\n",
    "import numpy as np"
   ]
  },
  {
   "cell_type": "code",
   "execution_count": 2,
   "id": "b56e67cc",
   "metadata": {
    "execution": {
     "iopub.execute_input": "2022-02-03T13:20:03.698602Z",
     "iopub.status.busy": "2022-02-03T13:20:03.698243Z",
     "iopub.status.idle": "2022-02-03T13:20:03.699734Z",
     "shell.execute_reply": "2022-02-03T13:20:03.700015Z"
    }
   },
   "outputs": [],
   "source": [
    "np.set_printoptions(\n",
    "    linewidth=140,\n",
    "    precision=2,\n",
    "    suppress=True,\n",
    ")\n",
    "np.random.seed(1)\n",
    "converter = mechkit.notation.Converter()"
   ]
  },
  {
   "cell_type": "code",
   "execution_count": 3,
   "id": "e10ceeff",
   "metadata": {
    "execution": {
     "iopub.execute_input": "2022-02-03T13:20:03.702341Z",
     "iopub.status.busy": "2022-02-03T13:20:03.702022Z",
     "iopub.status.idle": "2022-02-03T13:20:03.703531Z",
     "shell.execute_reply": "2022-02-03T13:20:03.703793Z"
    }
   },
   "outputs": [],
   "source": [
    "def print_in_mandel9(tensor):\n",
    "    print(converter.to_mandel9(tensor))"
   ]
  },
  {
   "cell_type": "code",
   "execution_count": 4,
   "id": "542d8b0d",
   "metadata": {
    "execution": {
     "iopub.execute_input": "2022-02-03T13:20:03.706434Z",
     "iopub.status.busy": "2022-02-03T13:20:03.706114Z",
     "iopub.status.idle": "2022-02-03T13:20:03.707524Z",
     "shell.execute_reply": "2022-02-03T13:20:03.707909Z"
    }
   },
   "outputs": [],
   "source": [
    "# ## Split random tensor of fourth order into completely symmetric and skew parts\n",
    "tensor = np.random.rand(3, 3, 3, 3)\n",
    "sym_part = mechkit.operators.sym(\n",
    "    tensor, sym_axes=None\n",
    ")  # by default all axes are symmetrized\n",
    "skew_part = tensor - sym_part"
   ]
  },
  {
   "cell_type": "code",
   "execution_count": 5,
   "id": "2bafa916",
   "metadata": {
    "execution": {
     "iopub.execute_input": "2022-02-03T13:20:03.710157Z",
     "iopub.status.busy": "2022-02-03T13:20:03.709736Z",
     "iopub.status.idle": "2022-02-03T13:20:03.737542Z",
     "shell.execute_reply": "2022-02-03T13:20:03.737153Z"
    }
   },
   "outputs": [
    {
     "name": "stdout",
     "output_type": "stream",
     "text": [
      "tensor=\n",
      "[[ 0.42  0.15  0.4   0.31  0.13  0.72  0.18 -0.13 -0.3 ]\n",
      " [ 0.69  0.99  0.1   1.09  0.21  1.12  0.03 -0.19 -0.06]\n",
      " [ 0.14  0.93  0.88  0.76  0.81  0.69  0.27 -0.25 -0.45]\n",
      " [ 0.61  0.46  0.28  1.04  1.05  0.96  0.08 -0.22 -0.  ]\n",
      " [ 0.45  0.64  0.55  1.35  1.18  0.68 -0.04  0.2   0.43]\n",
      " [ 0.41  0.92  0.62  1.05  1.38  0.45  0.06  0.18 -0.14]\n",
      " [-0.02  0.27 -0.09  0.81  0.08 -0.24 -0.12  0.17  0.62]\n",
      " [-0.25 -0.2  -0.43  0.24  0.5   0.48  0.24 -0.27  0.34]\n",
      " [-0.35 -0.32 -0.17  0.6   0.03 -0.18 -0.33  0.17  0.07]]\n"
     ]
    }
   ],
   "source": [
    "print(\"tensor=\")\n",
    "print_in_mandel9(tensor)"
   ]
  },
  {
   "cell_type": "code",
   "execution_count": 6,
   "id": "05b43941",
   "metadata": {
    "execution": {
     "iopub.execute_input": "2022-02-03T13:20:03.741247Z",
     "iopub.status.busy": "2022-02-03T13:20:03.740763Z",
     "iopub.status.idle": "2022-02-03T13:20:03.742789Z",
     "shell.execute_reply": "2022-02-03T13:20:03.743112Z"
    }
   },
   "outputs": [
    {
     "name": "stdout",
     "output_type": "stream",
     "text": [
      "sym_part=\n",
      "[[ 0.42  0.29  0.48  0.64  0.29  0.57  0.    0.    0.  ]\n",
      " [ 0.29  0.99  0.52  0.77  0.61  1.02  0.   -0.   -0.  ]\n",
      " [ 0.48  0.52  0.88  0.52  0.68  0.78  0.   -0.    0.  ]\n",
      " [ 0.64  0.77  0.52  1.04  1.11  0.87  0.    0.   -0.  ]\n",
      " [ 0.29  0.61  0.68  1.11  0.96  0.91  0.    0.   -0.  ]\n",
      " [ 0.57  1.02  0.78  0.87  0.91  0.58  0.    0.    0.  ]\n",
      " [-0.    0.    0.    0.    0.   -0.    0.   -0.   -0.  ]\n",
      " [-0.   -0.   -0.    0.    0.    0.    0.    0.   -0.  ]\n",
      " [-0.    0.   -0.    0.   -0.    0.    0.   -0.   -0.  ]]\n"
     ]
    }
   ],
   "source": [
    "print(\"sym_part=\")\n",
    "print_in_mandel9(sym_part)"
   ]
  },
  {
   "cell_type": "code",
   "execution_count": 7,
   "id": "c8ef90f8",
   "metadata": {
    "execution": {
     "iopub.execute_input": "2022-02-03T13:20:03.746716Z",
     "iopub.status.busy": "2022-02-03T13:20:03.746231Z",
     "iopub.status.idle": "2022-02-03T13:20:03.748687Z",
     "shell.execute_reply": "2022-02-03T13:20:03.748279Z"
    }
   },
   "outputs": [
    {
     "name": "stdout",
     "output_type": "stream",
     "text": [
      "skew_part=\n",
      "[[ 0.   -0.14 -0.08 -0.33 -0.16  0.16  0.18 -0.13 -0.3 ]\n",
      " [ 0.4  -0.   -0.42  0.32 -0.4   0.1   0.03 -0.19 -0.06]\n",
      " [-0.34  0.41 -0.    0.24  0.13 -0.1   0.27 -0.25 -0.45]\n",
      " [-0.03 -0.32 -0.24  0.   -0.06  0.09  0.08 -0.22 -0.  ]\n",
      " [ 0.16  0.02 -0.13  0.24  0.21 -0.22 -0.04  0.2   0.43]\n",
      " [-0.16 -0.1  -0.16  0.18  0.48 -0.13  0.06  0.18 -0.14]\n",
      " [-0.02  0.27 -0.09  0.81  0.08 -0.24 -0.12  0.17  0.62]\n",
      " [-0.25 -0.2  -0.43  0.24  0.5   0.48  0.24 -0.27  0.34]\n",
      " [-0.35 -0.32 -0.17  0.6   0.03 -0.18 -0.33  0.17  0.07]]\n"
     ]
    }
   ],
   "source": [
    "print(\"skew_part=\")\n",
    "print_in_mandel9(skew_part)"
   ]
  },
  {
   "cell_type": "code",
   "execution_count": 8,
   "id": "ffcfcdca",
   "metadata": {
    "execution": {
     "iopub.execute_input": "2022-02-03T13:20:03.752832Z",
     "iopub.status.busy": "2022-02-03T13:20:03.752340Z",
     "iopub.status.idle": "2022-02-03T13:20:03.754037Z",
     "shell.execute_reply": "2022-02-03T13:20:03.754358Z"
    }
   },
   "outputs": [
    {
     "name": "stdout",
     "output_type": "stream",
     "text": [
      "sym_part + skew_part\n",
      "[[ 0.42  0.15  0.4   0.31  0.13  0.72  0.18 -0.13 -0.3 ]\n",
      " [ 0.69  0.99  0.1   1.09  0.21  1.12  0.03 -0.19 -0.06]\n",
      " [ 0.14  0.93  0.88  0.76  0.81  0.69  0.27 -0.25 -0.45]\n",
      " [ 0.61  0.46  0.28  1.04  1.05  0.96  0.08 -0.22 -0.  ]\n",
      " [ 0.45  0.64  0.55  1.35  1.18  0.68 -0.04  0.2   0.43]\n",
      " [ 0.41  0.92  0.62  1.05  1.38  0.45  0.06  0.18 -0.14]\n",
      " [-0.02  0.27 -0.09  0.81  0.08 -0.24 -0.12  0.17  0.62]\n",
      " [-0.25 -0.2  -0.43  0.24  0.5   0.48  0.24 -0.27  0.34]\n",
      " [-0.35 -0.32 -0.17  0.6   0.03 -0.18 -0.33  0.17  0.07]]\n"
     ]
    }
   ],
   "source": [
    "print(\"sym_part + skew_part\")\n",
    "print_in_mandel9(sym_part + skew_part)\n",
    "assert np.allclose(tensor, sym_part + skew_part)"
   ]
  },
  {
   "cell_type": "code",
   "execution_count": 9,
   "id": "6d89e18e",
   "metadata": {
    "execution": {
     "iopub.execute_input": "2022-02-03T13:20:03.757339Z",
     "iopub.status.busy": "2022-02-03T13:20:03.756939Z",
     "iopub.status.idle": "2022-02-03T13:20:03.758783Z",
     "shell.execute_reply": "2022-02-03T13:20:03.758378Z"
    }
   },
   "outputs": [],
   "source": [
    "# ## Split into part which has inner symmetry and the remaining part\n",
    "sym_inner_part = mechkit.operators.Sym_Fourth_Order_Special(label=\"inner\")(tensor)\n",
    "remaining = tensor - sym_inner_part"
   ]
  },
  {
   "cell_type": "code",
   "execution_count": 10,
   "id": "4be89e89",
   "metadata": {
    "execution": {
     "iopub.execute_input": "2022-02-03T13:20:03.762029Z",
     "iopub.status.busy": "2022-02-03T13:20:03.761636Z",
     "iopub.status.idle": "2022-02-03T13:20:03.763863Z",
     "shell.execute_reply": "2022-02-03T13:20:03.763466Z"
    }
   },
   "outputs": [
    {
     "name": "stdout",
     "output_type": "stream",
     "text": [
      "tensor=\n",
      "[[ 0.42  0.15  0.4   0.31  0.13  0.72  0.18 -0.13 -0.3 ]\n",
      " [ 0.69  0.99  0.1   1.09  0.21  1.12  0.03 -0.19 -0.06]\n",
      " [ 0.14  0.93  0.88  0.76  0.81  0.69  0.27 -0.25 -0.45]\n",
      " [ 0.61  0.46  0.28  1.04  1.05  0.96  0.08 -0.22 -0.  ]\n",
      " [ 0.45  0.64  0.55  1.35  1.18  0.68 -0.04  0.2   0.43]\n",
      " [ 0.41  0.92  0.62  1.05  1.38  0.45  0.06  0.18 -0.14]\n",
      " [-0.02  0.27 -0.09  0.81  0.08 -0.24 -0.12  0.17  0.62]\n",
      " [-0.25 -0.2  -0.43  0.24  0.5   0.48  0.24 -0.27  0.34]\n",
      " [-0.35 -0.32 -0.17  0.6   0.03 -0.18 -0.33  0.17  0.07]]\n"
     ]
    }
   ],
   "source": [
    "print(\"tensor=\")\n",
    "print_in_mandel9(tensor)"
   ]
  },
  {
   "cell_type": "code",
   "execution_count": 11,
   "id": "2fabb811",
   "metadata": {
    "execution": {
     "iopub.execute_input": "2022-02-03T13:20:03.767037Z",
     "iopub.status.busy": "2022-02-03T13:20:03.766592Z",
     "iopub.status.idle": "2022-02-03T13:20:03.768734Z",
     "shell.execute_reply": "2022-02-03T13:20:03.768397Z"
    }
   },
   "outputs": [
    {
     "name": "stdout",
     "output_type": "stream",
     "text": [
      "sym_inner_part=\n",
      "[[ 0.42  0.42  0.27  0.46  0.29  0.57  0.    0.    0.  ]\n",
      " [ 0.42  0.99  0.52  0.77  0.42  1.02  0.   -0.    0.  ]\n",
      " [ 0.27  0.52  0.88  0.52  0.68  0.65  0.    0.   -0.  ]\n",
      " [ 0.46  0.77  0.52  1.04  1.2   1.   -0.    0.    0.  ]\n",
      " [ 0.29  0.42  0.68  1.2   1.18  1.03 -0.    0.   -0.  ]\n",
      " [ 0.57  1.02  0.65  1.    1.03  0.45  0.   -0.    0.  ]\n",
      " [ 0.    0.   -0.   -0.    0.    0.   -0.    0.    0.  ]\n",
      " [ 0.    0.    0.    0.    0.   -0.    0.   -0.    0.  ]\n",
      " [ 0.    0.   -0.    0.    0.    0.   -0.   -0.    0.  ]]\n"
     ]
    }
   ],
   "source": [
    "print(\"sym_inner_part=\")\n",
    "print_in_mandel9(sym_inner_part)"
   ]
  },
  {
   "cell_type": "code",
   "execution_count": 12,
   "id": "92b6db58",
   "metadata": {
    "execution": {
     "iopub.execute_input": "2022-02-03T13:20:03.771927Z",
     "iopub.status.busy": "2022-02-03T13:20:03.771536Z",
     "iopub.status.idle": "2022-02-03T13:20:03.773862Z",
     "shell.execute_reply": "2022-02-03T13:20:03.773466Z"
    }
   },
   "outputs": [
    {
     "name": "stdout",
     "output_type": "stream",
     "text": [
      "remaining=\n",
      "[[-0.   -0.27  0.13 -0.15 -0.16  0.16  0.18 -0.13 -0.3 ]\n",
      " [ 0.27  0.   -0.41  0.32 -0.21  0.1   0.03 -0.19 -0.06]\n",
      " [-0.13  0.41 -0.    0.24  0.13  0.03  0.27 -0.25 -0.45]\n",
      " [ 0.15 -0.32 -0.24  0.   -0.15 -0.05  0.08 -0.22 -0.  ]\n",
      " [ 0.16  0.21 -0.13  0.15 -0.   -0.35 -0.04  0.2   0.43]\n",
      " [-0.16 -0.1  -0.03  0.05  0.35  0.    0.06  0.18 -0.14]\n",
      " [-0.02  0.27 -0.09  0.81  0.08 -0.24 -0.12  0.17  0.62]\n",
      " [-0.25 -0.2  -0.43  0.24  0.5   0.48  0.24 -0.27  0.34]\n",
      " [-0.35 -0.32 -0.17  0.6   0.03 -0.18 -0.33  0.17  0.07]]\n"
     ]
    }
   ],
   "source": [
    "print(\"remaining=\")\n",
    "print_in_mandel9(remaining)"
   ]
  }
 ],
 "metadata": {
  "jupytext": {
   "cell_metadata_filter": "-all",
   "main_language": "python",
   "notebook_metadata_filter": "-all"
  },
  "language_info": {
   "codemirror_mode": {
    "name": "ipython",
    "version": 3
   },
   "file_extension": ".py",
   "mimetype": "text/x-python",
   "name": "python",
   "nbconvert_exporter": "python",
   "pygments_lexer": "ipython3",
   "version": "3.9.7"
  }
 },
 "nbformat": 4,
 "nbformat_minor": 5
}
