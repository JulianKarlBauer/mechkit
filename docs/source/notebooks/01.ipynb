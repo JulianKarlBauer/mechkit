{
 "cells": [
  {
   "cell_type": "markdown",
   "metadata": {},
   "source": [
    "# Materials"
   ]
  },
  {
   "cell_type": "code",
   "execution_count": 1,
   "metadata": {
    "execution": {
     "iopub.execute_input": "2022-01-10T19:08:45.865093Z",
     "iopub.status.busy": "2022-01-10T19:08:45.863985Z",
     "iopub.status.idle": "2022-01-10T19:08:45.992092Z",
     "shell.execute_reply": "2022-01-10T19:08:45.991550Z"
    }
   },
   "outputs": [],
   "source": [
    "import mechkit\n",
    "import numpy as np"
   ]
  },
  {
   "cell_type": "code",
   "execution_count": 2,
   "metadata": {
    "execution": {
     "iopub.execute_input": "2022-01-10T19:08:45.995038Z",
     "iopub.status.busy": "2022-01-10T19:08:45.994620Z",
     "iopub.status.idle": "2022-01-10T19:08:45.996715Z",
     "shell.execute_reply": "2022-01-10T19:08:45.996294Z"
    }
   },
   "outputs": [],
   "source": [
    "np.set_printoptions(\n",
    "    linewidth=140,\n",
    "    precision=3,\n",
    "    # suppress=False,\n",
    ")"
   ]
  },
  {
   "cell_type": "markdown",
   "metadata": {},
   "source": [
    "Inspect some keyword combinations for constructor"
   ]
  },
  {
   "cell_type": "code",
   "execution_count": 3,
   "metadata": {
    "execution": {
     "iopub.execute_input": "2022-01-10T19:08:46.000151Z",
     "iopub.status.busy": "2022-01-10T19:08:45.999761Z",
     "iopub.status.idle": "2022-01-10T19:08:46.001795Z",
     "shell.execute_reply": "2022-01-10T19:08:46.002101Z"
    }
   },
   "outputs": [],
   "source": [
    "mat = mechkit.material.Isotropic(E=2e6, nu=0.3)\n",
    "mat1 = mechkit.material.Isotropic(E=2e6, K=1e6)\n",
    "mat2 = mechkit.material.Isotropic(C11_voigt=20, C44_voigt=5)"
   ]
  },
  {
   "cell_type": "markdown",
   "metadata": {},
   "source": [
    "Address attributes directly or as dictionary"
   ]
  },
  {
   "cell_type": "code",
   "execution_count": 4,
   "metadata": {
    "execution": {
     "iopub.execute_input": "2022-01-10T19:08:46.004737Z",
     "iopub.status.busy": "2022-01-10T19:08:46.004359Z",
     "iopub.status.idle": "2022-01-10T19:08:46.006552Z",
     "shell.execute_reply": "2022-01-10T19:08:46.006867Z"
    }
   },
   "outputs": [
    {
     "name": "stdout",
     "output_type": "stream",
     "text": [
      "769230.7692307692\n",
      "1999999.9999999998\n"
     ]
    }
   ],
   "source": [
    "print(mat.G)\n",
    "print(mat['E'])"
   ]
  },
  {
   "cell_type": "markdown",
   "metadata": {},
   "source": [
    "Get stiffness in common notations"
   ]
  },
  {
   "cell_type": "code",
   "execution_count": 5,
   "metadata": {
    "execution": {
     "iopub.execute_input": "2022-01-10T19:08:46.010384Z",
     "iopub.status.busy": "2022-01-10T19:08:46.010005Z",
     "iopub.status.idle": "2022-01-10T19:08:46.012298Z",
     "shell.execute_reply": "2022-01-10T19:08:46.011907Z"
    }
   },
   "outputs": [
    {
     "name": "stdout",
     "output_type": "stream",
     "text": [
      "[[2692307.692 1153846.154 1153846.154       0.          0.          0.   ]\n",
      " [1153846.154 2692307.692 1153846.154       0.          0.          0.   ]\n",
      " [1153846.154 1153846.154 2692307.692       0.          0.          0.   ]\n",
      " [      0.          0.          0.     769230.769       0.          0.   ]\n",
      " [      0.          0.          0.          0.     769230.769       0.   ]\n",
      " [      0.          0.          0.          0.          0.     769230.769]]\n",
      "[[2692307.692 1153846.154 1153846.154       0.          0.          0.   ]\n",
      " [1153846.154 2692307.692 1153846.154       0.          0.          0.   ]\n",
      " [1153846.154 1153846.154 2692307.692       0.          0.          0.   ]\n",
      " [      0.          0.          0.    1538461.538       0.          0.   ]\n",
      " [      0.          0.          0.          0.    1538461.538       0.   ]\n",
      " [      0.          0.          0.          0.          0.    1538461.538]]\n"
     ]
    }
   ],
   "source": [
    "print(mat['stiffness_voigt'])\n",
    "print(mat['stiffness_mandel6'])"
   ]
  },
  {
   "cell_type": "markdown",
   "metadata": {},
   "source": [
    "Do arithmetic on material instances"
   ]
  },
  {
   "cell_type": "code",
   "execution_count": 6,
   "metadata": {
    "execution": {
     "iopub.execute_input": "2022-01-10T19:08:46.015087Z",
     "iopub.status.busy": "2022-01-10T19:08:46.014721Z",
     "iopub.status.idle": "2022-01-10T19:08:46.017922Z",
     "shell.execute_reply": "2022-01-10T19:08:46.017543Z"
    }
   },
   "outputs": [
    {
     "name": "stdout",
     "output_type": "stream",
     "text": [
      "[[1071438.571  214290.714  214290.714       0.          0.          0.   ]\n",
      " [ 214290.714 1071438.571  214290.714       0.          0.          0.   ]\n",
      " [ 214290.714  214290.714 1071438.571       0.          0.          0.   ]\n",
      " [      0.          0.          0.     428573.929       0.          0.   ]\n",
      " [      0.          0.          0.          0.     428573.929       0.   ]\n",
      " [      0.          0.          0.          0.          0.     428573.929]]\n"
     ]
    }
   ],
   "source": [
    "print((0.5*mat1 + 0.5*mat2)['stiffness_voigt'])"
   ]
  },
  {
   "cell_type": "markdown",
   "metadata": {},
   "source": [
    "Get a transversally isotropic material"
   ]
  },
  {
   "cell_type": "code",
   "execution_count": 7,
   "metadata": {
    "execution": {
     "iopub.execute_input": "2022-01-10T19:08:46.044193Z",
     "iopub.status.busy": "2022-01-10T19:08:46.043207Z",
     "iopub.status.idle": "2022-01-10T19:08:46.046545Z",
     "shell.execute_reply": "2022-01-10T19:08:46.046144Z"
    }
   },
   "outputs": [
    {
     "name": "stdout",
     "output_type": "stream",
     "text": [
      "[[ 25.677  11.206  11.677   0.      0.      0.   ]\n",
      " [ 11.206 106.724  11.206   0.      0.      0.   ]\n",
      " [ 11.677  11.206  25.677   0.      0.      0.   ]\n",
      " [  0.      0.      0.     20.      0.      0.   ]\n",
      " [  0.      0.      0.      0.     14.      0.   ]\n",
      " [  0.      0.      0.      0.      0.     20.   ]]\n"
     ]
    }
   ],
   "source": [
    "transv = mechkit.material.TransversalIsotropic(\n",
    "    E_l=100.0, E_t=20.0, nu_lt=0.3, G_lt=10.0, G_tt=7.0, principal_axis=[0, 1, 0]\n",
    ")\n",
    "print(transv.stiffness_mandel6)"
   ]
  }
 ],
 "metadata": {
  "kernelspec": {
   "display_name": "Python 3",
   "language": "python",
   "name": "python3"
  },
  "language_info": {
   "codemirror_mode": {
    "name": "ipython",
    "version": 3
   },
   "file_extension": ".py",
   "mimetype": "text/x-python",
   "name": "python",
   "nbconvert_exporter": "python",
   "pygments_lexer": "ipython3",
   "version": "3.9.7"
  }
 },
 "nbformat": 4,
 "nbformat_minor": 2
}
