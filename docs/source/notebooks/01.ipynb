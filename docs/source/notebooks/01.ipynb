{
 "cells": [
  {
   "cell_type": "markdown",
   "id": "3786c964",
   "metadata": {},
   "source": [
    "# Materials"
   ]
  },
  {
   "cell_type": "code",
   "execution_count": 1,
   "id": "3cb67015",
   "metadata": {
    "execution": {
     "iopub.execute_input": "2022-02-03T13:20:06.211837Z",
     "iopub.status.busy": "2022-02-03T13:20:06.210496Z",
     "iopub.status.idle": "2022-02-03T13:20:06.652241Z",
     "shell.execute_reply": "2022-02-03T13:20:06.652558Z"
    }
   },
   "outputs": [],
   "source": [
    "import mechkit\n",
    "import numpy as np"
   ]
  },
  {
   "cell_type": "code",
   "execution_count": 2,
   "id": "3c396bdf",
   "metadata": {
    "execution": {
     "iopub.execute_input": "2022-02-03T13:20:06.655347Z",
     "iopub.status.busy": "2022-02-03T13:20:06.655002Z",
     "iopub.status.idle": "2022-02-03T13:20:06.656739Z",
     "shell.execute_reply": "2022-02-03T13:20:06.656414Z"
    }
   },
   "outputs": [],
   "source": [
    "np.set_printoptions(\n",
    "    linewidth=140,\n",
    "    precision=3,\n",
    "    # suppress=False,\n",
    ")"
   ]
  },
  {
   "cell_type": "code",
   "execution_count": 3,
   "id": "28993855",
   "metadata": {
    "execution": {
     "iopub.execute_input": "2022-02-03T13:20:06.659673Z",
     "iopub.status.busy": "2022-02-03T13:20:06.659025Z",
     "iopub.status.idle": "2022-02-03T13:20:06.661492Z",
     "shell.execute_reply": "2022-02-03T13:20:06.661209Z"
    }
   },
   "outputs": [],
   "source": [
    "# Inspect some keyword combinations for constructor\n",
    "mat = mechkit.material.Isotropic(E=2e6, nu=0.3)\n",
    "mat1 = mechkit.material.Isotropic(E=2e6, K=1e6)\n",
    "mat2 = mechkit.material.Isotropic(C11_voigt=20, C44_voigt=5)"
   ]
  },
  {
   "cell_type": "code",
   "execution_count": 4,
   "id": "675acc26",
   "metadata": {
    "execution": {
     "iopub.execute_input": "2022-02-03T13:20:06.663811Z",
     "iopub.status.busy": "2022-02-03T13:20:06.663472Z",
     "iopub.status.idle": "2022-02-03T13:20:06.665108Z",
     "shell.execute_reply": "2022-02-03T13:20:06.665388Z"
    }
   },
   "outputs": [
    {
     "name": "stdout",
     "output_type": "stream",
     "text": [
      "769230.7692307692\n",
      "1999999.9999999998\n"
     ]
    }
   ],
   "source": [
    "# Address attributes directly or as dictionary\n",
    "print(mat.G)\n",
    "print(mat[\"E\"])"
   ]
  },
  {
   "cell_type": "code",
   "execution_count": 5,
   "id": "f6a625e8",
   "metadata": {
    "execution": {
     "iopub.execute_input": "2022-02-03T13:20:06.668166Z",
     "iopub.status.busy": "2022-02-03T13:20:06.667728Z",
     "iopub.status.idle": "2022-02-03T13:20:06.703362Z",
     "shell.execute_reply": "2022-02-03T13:20:06.704624Z"
    }
   },
   "outputs": [
    {
     "name": "stdout",
     "output_type": "stream",
     "text": [
      "[[2692307.692 1153846.154 1153846.154       0.          0.          0.   ]\n",
      " [1153846.154 2692307.692 1153846.154       0.          0.          0.   ]\n",
      " [1153846.154 1153846.154 2692307.692       0.          0.          0.   ]\n",
      " [      0.          0.          0.     769230.769       0.          0.   ]\n",
      " [      0.          0.          0.          0.     769230.769       0.   ]\n",
      " [      0.          0.          0.          0.          0.     769230.769]]\n",
      "[[2692307.692 1153846.154 1153846.154       0.          0.          0.   ]\n",
      " [1153846.154 2692307.692 1153846.154       0.          0.          0.   ]\n",
      " [1153846.154 1153846.154 2692307.692       0.          0.          0.   ]\n",
      " [      0.          0.          0.    1538461.538       0.          0.   ]\n",
      " [      0.          0.          0.          0.    1538461.538       0.   ]\n",
      " [      0.          0.          0.          0.          0.    1538461.538]]\n"
     ]
    }
   ],
   "source": [
    "# Get stiffness in common notations\n",
    "print(mat[\"stiffness_voigt\"])\n",
    "print(mat[\"stiffness_mandel6\"])"
   ]
  },
  {
   "cell_type": "code",
   "execution_count": 6,
   "id": "54e1949a",
   "metadata": {
    "execution": {
     "iopub.execute_input": "2022-02-03T13:20:06.715911Z",
     "iopub.status.busy": "2022-02-03T13:20:06.715111Z",
     "iopub.status.idle": "2022-02-03T13:20:06.721494Z",
     "shell.execute_reply": "2022-02-03T13:20:06.721958Z"
    }
   },
   "outputs": [
    {
     "name": "stdout",
     "output_type": "stream",
     "text": [
      "[[1071438.571  214290.714  214290.714       0.          0.          0.   ]\n",
      " [ 214290.714 1071438.571  214290.714       0.          0.          0.   ]\n",
      " [ 214290.714  214290.714 1071438.571       0.          0.          0.   ]\n",
      " [      0.          0.          0.     428573.929       0.          0.   ]\n",
      " [      0.          0.          0.          0.     428573.929       0.   ]\n",
      " [      0.          0.          0.          0.          0.     428573.929]]\n"
     ]
    }
   ],
   "source": [
    "# Do arithmetic on material instances\n",
    "print((0.5 * mat1 + 0.5 * mat2)[\"stiffness_voigt\"])"
   ]
  },
  {
   "cell_type": "code",
   "execution_count": 7,
   "id": "436e9f20",
   "metadata": {
    "execution": {
     "iopub.execute_input": "2022-02-03T13:20:06.728791Z",
     "iopub.status.busy": "2022-02-03T13:20:06.728153Z",
     "iopub.status.idle": "2022-02-03T13:20:06.732183Z",
     "shell.execute_reply": "2022-02-03T13:20:06.731745Z"
    }
   },
   "outputs": [
    {
     "name": "stdout",
     "output_type": "stream",
     "text": [
      "[[ 25.677  11.206  11.677   0.      0.      0.   ]\n",
      " [ 11.206 106.724  11.206   0.      0.      0.   ]\n",
      " [ 11.677  11.206  25.677   0.      0.      0.   ]\n",
      " [  0.      0.      0.     20.      0.      0.   ]\n",
      " [  0.      0.      0.      0.     14.      0.   ]\n",
      " [  0.      0.      0.      0.      0.     20.   ]]\n"
     ]
    }
   ],
   "source": [
    "# Get a transversally isotropic material\n",
    "transv = mechkit.material.TransversalIsotropic(\n",
    "    E_l=100.0, E_t=20.0, nu_lt=0.3, G_lt=10.0, G_tt=7.0, principal_axis=[0, 1, 0]\n",
    ")\n",
    "print(transv.stiffness_mandel6)"
   ]
  }
 ],
 "metadata": {
  "jupytext": {
   "cell_metadata_filter": "-all",
   "main_language": "python",
   "notebook_metadata_filter": "-all"
  },
  "language_info": {
   "codemirror_mode": {
    "name": "ipython",
    "version": 3
   },
   "file_extension": ".py",
   "mimetype": "text/x-python",
   "name": "python",
   "nbconvert_exporter": "python",
   "pygments_lexer": "ipython3",
   "version": "3.9.7"
  }
 },
 "nbformat": 4,
 "nbformat_minor": 5
}
