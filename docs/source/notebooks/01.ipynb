{
 "cells": [
  {
   "cell_type": "markdown",
   "metadata": {},
   "source": [
    "# Title"
   ]
  },
  {
   "cell_type": "code",
   "execution_count": 1,
   "metadata": {
    "execution": {
     "iopub.execute_input": "2022-01-10T18:43:56.741999Z",
     "iopub.status.busy": "2022-01-10T18:43:56.736425Z",
     "iopub.status.idle": "2022-01-10T18:43:56.828331Z",
     "shell.execute_reply": "2022-01-10T18:43:56.827818Z"
    }
   },
   "outputs": [],
   "source": [
    "import mechkit\n",
    "import numpy as np"
   ]
  },
  {
   "cell_type": "code",
   "execution_count": 2,
   "metadata": {
    "execution": {
     "iopub.execute_input": "2022-01-10T18:43:56.831264Z",
     "iopub.status.busy": "2022-01-10T18:43:56.830831Z",
     "iopub.status.idle": "2022-01-10T18:43:56.832771Z",
     "shell.execute_reply": "2022-01-10T18:43:56.832385Z"
    }
   },
   "outputs": [],
   "source": [
    "np.set_printoptions(\n",
    "    linewidth=140,\n",
    "    precision=3,\n",
    "    # suppress=False,\n",
    ")"
   ]
  },
  {
   "cell_type": "code",
   "execution_count": 3,
   "metadata": {
    "execution": {
     "iopub.execute_input": "2022-01-10T18:43:56.836923Z",
     "iopub.status.busy": "2022-01-10T18:43:56.836055Z",
     "iopub.status.idle": "2022-01-10T18:43:56.838500Z",
     "shell.execute_reply": "2022-01-10T18:43:56.838810Z"
    }
   },
   "outputs": [],
   "source": [
    "mat = mechkit.material.Isotropic(E=2e6, nu=0.3)\n",
    "mat = mechkit.material.Isotropic(E=2e6, K=1e6)\n",
    "mat1 = mechkit.material.Isotropic(M=15, G=5)\n",
    "mat2 = mechkit.material.Isotropic(C11_voigt=20, C44_voigt=5)"
   ]
  },
  {
   "cell_type": "code",
   "execution_count": 4,
   "metadata": {
    "execution": {
     "iopub.execute_input": "2022-01-10T18:43:56.843635Z",
     "iopub.status.busy": "2022-01-10T18:43:56.842519Z",
     "iopub.status.idle": "2022-01-10T18:43:56.848107Z",
     "shell.execute_reply": "2022-01-10T18:43:56.847738Z"
    }
   },
   "outputs": [
    {
     "name": "stdout",
     "output_type": "stream",
     "text": [
      "mat.G\n",
      "857142.8571428572 \n",
      "\n",
      "mat['E']\n",
      "2000000.0 \n",
      "\n",
      "mat1['stiffness_voigt']\n",
      "[[15.  5.  5.  0.  0.  0.]\n",
      " [ 5. 15.  5.  0.  0.  0.]\n",
      " [ 5.  5. 15.  0.  0.  0.]\n",
      " [ 0.  0.  0.  5.  0.  0.]\n",
      " [ 0.  0.  0.  0.  5.  0.]\n",
      " [ 0.  0.  0.  0.  0.  5.]] \n",
      "\n",
      "mat2['stiffness_voigt']\n",
      "[[20. 10. 10.  0.  0.  0.]\n",
      " [10. 20. 10.  0.  0.  0.]\n",
      " [10. 10. 20.  0.  0.  0.]\n",
      " [ 0.  0.  0.  5.  0.  0.]\n",
      " [ 0.  0.  0.  0.  5.  0.]\n",
      " [ 0.  0.  0.  0.  0.  5.]] \n",
      "\n",
      "(0.5*mat1 + 0.5*mat2)['stiffness_voigt']\n",
      "[[17.5  7.5  7.5  0.   0.   0. ]\n",
      " [ 7.5 17.5  7.5  0.   0.   0. ]\n",
      " [ 7.5  7.5 17.5  0.   0.   0. ]\n",
      " [ 0.   0.   0.   5.   0.   0. ]\n",
      " [ 0.   0.   0.   0.   5.   0. ]\n",
      " [ 0.   0.   0.   0.   0.   5. ]] \n",
      "\n",
      "mat1['stiffness_mandel6']\n",
      "[[15.  5.  5.  0.  0.  0.]\n",
      " [ 5. 15.  5.  0.  0.  0.]\n",
      " [ 5.  5. 15.  0.  0.  0.]\n",
      " [ 0.  0.  0. 10.  0.  0.]\n",
      " [ 0.  0.  0.  0. 10.  0.]\n",
      " [ 0.  0.  0.  0.  0. 10.]] \n",
      "\n",
      "mat1['compliance_mandel6']\n",
      "[[ 0.08 -0.02 -0.02  0.    0.    0.  ]\n",
      " [-0.02  0.08 -0.02  0.    0.    0.  ]\n",
      " [-0.02 -0.02  0.08  0.    0.    0.  ]\n",
      " [ 0.   -0.   -0.    0.1  -0.   -0.  ]\n",
      " [ 0.    0.    0.    0.    0.1   0.  ]\n",
      " [ 0.    0.    0.    0.    0.    0.1 ]] \n",
      "\n"
     ]
    }
   ],
   "source": [
    "printQueue = [\n",
    "    \"mat.G\",\n",
    "    \"mat['E']\",\n",
    "    \"mat1['stiffness_voigt']\",\n",
    "    \"mat2['stiffness_voigt']\",\n",
    "    \"(0.5*mat1 + 0.5*mat2)['stiffness_voigt']\",\n",
    "    \"mat1['stiffness_mandel6']\",\n",
    "    \"mat1['compliance_mandel6']\",\n",
    "]\n",
    "for val in printQueue:\n",
    "    print(val)\n",
    "    print(eval(val), \"\\n\")"
   ]
  },
  {
   "cell_type": "code",
   "execution_count": 5,
   "metadata": {
    "execution": {
     "iopub.execute_input": "2022-01-10T18:43:56.871344Z",
     "iopub.status.busy": "2022-01-10T18:43:56.870957Z",
     "iopub.status.idle": "2022-01-10T18:43:56.873865Z",
     "shell.execute_reply": "2022-01-10T18:43:56.873529Z"
    }
   },
   "outputs": [],
   "source": [
    "mat = mechkit.material.TransversalIsotropic(\n",
    "    E_l=100.0, E_t=20.0, nu_lt=0.3, G_lt=10.0, G_tt=7.0, principal_axis=[0, 1, 0]\n",
    ")"
   ]
  },
  {
   "cell_type": "code",
   "execution_count": 6,
   "metadata": {
    "execution": {
     "iopub.execute_input": "2022-01-10T18:43:56.877624Z",
     "iopub.status.busy": "2022-01-10T18:43:56.877240Z",
     "iopub.status.idle": "2022-01-10T18:43:56.879308Z",
     "shell.execute_reply": "2022-01-10T18:43:56.879616Z"
    }
   },
   "outputs": [
    {
     "name": "stdout",
     "output_type": "stream",
     "text": [
      "mat.compliance_voigt\n",
      "[[ 0.05  -0.003 -0.021  0.     0.     0.   ]\n",
      " [-0.003  0.01  -0.003  0.     0.     0.   ]\n",
      " [-0.021 -0.003  0.05   0.     0.     0.   ]\n",
      " [ 0.    -0.    -0.     0.1   -0.    -0.   ]\n",
      " [ 0.     0.     0.     0.     0.143  0.   ]\n",
      " [ 0.     0.     0.     0.     0.     0.1  ]] \n",
      "\n",
      "mat.stiffness_mandel6\n",
      "[[ 25.677  11.206  11.677   0.      0.      0.   ]\n",
      " [ 11.206 106.724  11.206   0.      0.      0.   ]\n",
      " [ 11.677  11.206  25.677   0.      0.      0.   ]\n",
      " [  0.      0.      0.     20.      0.      0.   ]\n",
      " [  0.      0.      0.      0.     14.      0.   ]\n",
      " [  0.      0.      0.      0.      0.     20.   ]] \n",
      "\n"
     ]
    }
   ],
   "source": [
    "printQueue = [\n",
    "    \"mat.compliance_voigt\",\n",
    "    \"mat.stiffness_mandel6\",\n",
    "]\n",
    "for val in printQueue:\n",
    "    print(val)\n",
    "    print(eval(val), \"\\n\")"
   ]
  }
 ],
 "metadata": {
  "kernelspec": {
   "display_name": "Python 3",
   "language": "python",
   "name": "python3"
  },
  "language_info": {
   "codemirror_mode": {
    "name": "ipython",
    "version": 3
   },
   "file_extension": ".py",
   "mimetype": "text/x-python",
   "name": "python",
   "nbconvert_exporter": "python",
   "pygments_lexer": "ipython3",
   "version": "3.9.7"
  }
 },
 "nbformat": 4,
 "nbformat_minor": 2
}
