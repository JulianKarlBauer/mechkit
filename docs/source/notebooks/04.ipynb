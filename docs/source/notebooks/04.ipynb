{
 "cells": [
  {
   "cell_type": "markdown",
   "id": "580057c8",
   "metadata": {},
   "source": [
    "# Operators: Deviators and Application to Fiber Orientation Tensors"
   ]
  },
  {
   "cell_type": "code",
   "execution_count": 1,
   "id": "63511131",
   "metadata": {
    "execution": {
     "iopub.execute_input": "2022-02-03T13:20:00.273266Z",
     "iopub.status.busy": "2022-02-03T13:20:00.271568Z",
     "iopub.status.idle": "2022-02-03T13:20:00.649891Z",
     "shell.execute_reply": "2022-02-03T13:20:00.649509Z"
    }
   },
   "outputs": [],
   "source": [
    "import mechkit\n",
    "import numpy as np"
   ]
  },
  {
   "cell_type": "code",
   "execution_count": 2,
   "id": "31a1e648",
   "metadata": {
    "execution": {
     "iopub.execute_input": "2022-02-03T13:20:00.652574Z",
     "iopub.status.busy": "2022-02-03T13:20:00.652251Z",
     "iopub.status.idle": "2022-02-03T13:20:00.654114Z",
     "shell.execute_reply": "2022-02-03T13:20:00.653766Z"
    },
    "lines_to_next_cell": 1
   },
   "outputs": [],
   "source": [
    "np.set_printoptions(\n",
    "    linewidth=140,\n",
    "    precision=3,\n",
    "    # suppress=False,\n",
    ")\n",
    "converter = mechkit.notation.Converter()"
   ]
  },
  {
   "cell_type": "code",
   "execution_count": 3,
   "id": "cb192bbf",
   "metadata": {
    "execution": {
     "iopub.execute_input": "2022-02-03T13:20:00.657276Z",
     "iopub.status.busy": "2022-02-03T13:20:00.656950Z",
     "iopub.status.idle": "2022-02-03T13:20:00.658669Z",
     "shell.execute_reply": "2022-02-03T13:20:00.658342Z"
    }
   },
   "outputs": [],
   "source": [
    "# Define convenient function\n",
    "def print_N2_and_deviators(N4_mandel):\n",
    "    N4 = converter.to_tensor(N4_mandel)\n",
    "    dev_N4 = converter.to_mandel6(mechkit.operators.dev(N4, order=4))\n",
    "\n",
    "    N2 = np.einsum(\"ijkk->ij\", N4)\n",
    "    dev_N2 = mechkit.operators.dev(N2, order=2)\n",
    "\n",
    "    print(\"N4=\")\n",
    "    print(N4_mandel)\n",
    "    print(\"dev_N4=\")\n",
    "    print(dev_N4)\n",
    "\n",
    "    print(\"N2=\")\n",
    "    print(N2)\n",
    "    print(\"dev_N2=\")\n",
    "    print(dev_N2)"
   ]
  },
  {
   "cell_type": "code",
   "execution_count": 4,
   "id": "2987f16f",
   "metadata": {
    "execution": {
     "iopub.execute_input": "2022-02-03T13:20:00.661055Z",
     "iopub.status.busy": "2022-02-03T13:20:00.660712Z",
     "iopub.status.idle": "2022-02-03T13:20:00.686367Z",
     "shell.execute_reply": "2022-02-03T13:20:00.686015Z"
    }
   },
   "outputs": [
    {
     "name": "stdout",
     "output_type": "stream",
     "text": [
      "Isotropic\n",
      "N4=\n",
      "[[0.2   0.067 0.067 0.    0.    0.   ]\n",
      " [0.067 0.2   0.067 0.    0.    0.   ]\n",
      " [0.067 0.067 0.2   0.    0.    0.   ]\n",
      " [0.    0.    0.    0.133 0.    0.   ]\n",
      " [0.    0.    0.    0.    0.133 0.   ]\n",
      " [0.    0.    0.    0.    0.    0.133]]\n",
      "dev_N4=\n",
      "[[ 1.943e-16 -2.429e-17 -2.429e-17  0.000e+00  0.000e+00  0.000e+00]\n",
      " [-2.429e-17  1.943e-16 -2.429e-17  0.000e+00  0.000e+00  0.000e+00]\n",
      " [-2.429e-17 -2.429e-17  1.943e-16  0.000e+00  0.000e+00  0.000e+00]\n",
      " [ 0.000e+00  0.000e+00  0.000e+00 -4.857e-17  0.000e+00  0.000e+00]\n",
      " [ 0.000e+00  0.000e+00  0.000e+00  0.000e+00 -4.857e-17  0.000e+00]\n",
      " [ 0.000e+00  0.000e+00  0.000e+00  0.000e+00  0.000e+00 -4.857e-17]]\n",
      "N2=\n",
      "[[0.333 0.    0.   ]\n",
      " [0.    0.333 0.   ]\n",
      " [0.    0.    0.333]]\n",
      "dev_N2=\n",
      "[[0.000e+00 0.000e+00 0.000e+00]\n",
      " [0.000e+00 0.000e+00 0.000e+00]\n",
      " [0.000e+00 0.000e+00 5.551e-17]]\n"
     ]
    }
   ],
   "source": [
    "# ## Isotropic N4: No deviation from the isotropic fourth order fiber orientation tensor\n",
    "print(\"Isotropic\")\n",
    "print_N2_and_deviators(N4_mandel=mechkit.fabric_tensors.Basic().N4[\"iso\"])"
   ]
  },
  {
   "cell_type": "code",
   "execution_count": 5,
   "id": "df52f9ba",
   "metadata": {
    "execution": {
     "iopub.execute_input": "2022-02-03T13:20:00.689436Z",
     "iopub.status.busy": "2022-02-03T13:20:00.689051Z",
     "iopub.status.idle": "2022-02-03T13:20:00.693553Z",
     "shell.execute_reply": "2022-02-03T13:20:00.693146Z"
    }
   },
   "outputs": [
    {
     "name": "stdout",
     "output_type": "stream",
     "text": [
      "Unidirectional\n",
      "N4=\n",
      "[[1. 0. 0. 0. 0. 0.]\n",
      " [0. 0. 0. 0. 0. 0.]\n",
      " [0. 0. 0. 0. 0. 0.]\n",
      " [0. 0. 0. 0. 0. 0.]\n",
      " [0. 0. 0. 0. 0. 0.]\n",
      " [0. 0. 0. 0. 0. 0.]]\n",
      "dev_N4=\n",
      "[[ 0.229 -0.114 -0.114  0.     0.     0.   ]\n",
      " [-0.114  0.086  0.029  0.     0.     0.   ]\n",
      " [-0.114  0.029  0.086  0.     0.     0.   ]\n",
      " [ 0.     0.     0.     0.057  0.     0.   ]\n",
      " [ 0.     0.     0.     0.    -0.229  0.   ]\n",
      " [ 0.     0.     0.     0.     0.    -0.229]]\n",
      "N2=\n",
      "[[1. 0. 0.]\n",
      " [0. 0. 0.]\n",
      " [0. 0. 0.]]\n",
      "dev_N2=\n",
      "[[ 0.667  0.     0.   ]\n",
      " [ 0.    -0.333  0.   ]\n",
      " [ 0.     0.    -0.333]]\n"
     ]
    }
   ],
   "source": [
    "# ## Unidirectional N4: Large deviations from isotropic fourth order fiber orientation tensor\n",
    "print(\"Unidirectional\")\n",
    "print_N2_and_deviators(N4_mandel=mechkit.fabric_tensors.Basic().N4[\"ud_x\"])"
   ]
  }
 ],
 "metadata": {
  "jupytext": {
   "cell_metadata_filter": "-all",
   "main_language": "python",
   "notebook_metadata_filter": "-all"
  },
  "language_info": {
   "codemirror_mode": {
    "name": "ipython",
    "version": 3
   },
   "file_extension": ".py",
   "mimetype": "text/x-python",
   "name": "python",
   "nbconvert_exporter": "python",
   "pygments_lexer": "ipython3",
   "version": "3.9.7"
  }
 },
 "nbformat": 4,
 "nbformat_minor": 5
}
