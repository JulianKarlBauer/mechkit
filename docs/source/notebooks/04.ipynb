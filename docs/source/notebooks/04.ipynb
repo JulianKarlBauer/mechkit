{
 "cells": [
  {
   "cell_type": "markdown",
   "metadata": {},
   "source": [
    "# Operators: Application to Fiber Orientation Tensors"
   ]
  },
  {
   "cell_type": "code",
   "execution_count": 1,
   "metadata": {
    "execution": {
     "iopub.execute_input": "2022-02-02T20:07:22.100342Z",
     "iopub.status.busy": "2022-02-02T20:07:22.098568Z",
     "iopub.status.idle": "2022-02-02T20:07:22.693080Z",
     "shell.execute_reply": "2022-02-02T20:07:22.692400Z"
    }
   },
   "outputs": [],
   "source": [
    "import mechkit\n",
    "import numpy as np"
   ]
  },
  {
   "cell_type": "code",
   "execution_count": 2,
   "metadata": {
    "execution": {
     "iopub.execute_input": "2022-02-02T20:07:22.697020Z",
     "iopub.status.busy": "2022-02-02T20:07:22.696490Z",
     "iopub.status.idle": "2022-02-02T20:07:22.698951Z",
     "shell.execute_reply": "2022-02-02T20:07:22.698405Z"
    }
   },
   "outputs": [],
   "source": [
    "np.set_printoptions(\n",
    "    linewidth=140,\n",
    "    precision=3,\n",
    "    # suppress=False,\n",
    ")\n",
    "converter = mechkit.notation.Converter()"
   ]
  },
  {
   "cell_type": "markdown",
   "metadata": {},
   "source": [
    "Define convenient function"
   ]
  },
  {
   "cell_type": "code",
   "execution_count": 3,
   "metadata": {
    "execution": {
     "iopub.execute_input": "2022-02-02T20:07:22.703666Z",
     "iopub.status.busy": "2022-02-02T20:07:22.703144Z",
     "iopub.status.idle": "2022-02-02T20:07:22.705520Z",
     "shell.execute_reply": "2022-02-02T20:07:22.704999Z"
    }
   },
   "outputs": [],
   "source": [
    "def print_N2_and_deviators(N4_mandel):\n",
    "    N4 = converter.to_tensor(N4_mandel)\n",
    "    dev_N4 = converter.to_mandel6(mechkit.operators.dev(N4, order=4))\n",
    "    N2 = np.einsum(\"ijkk->ij\", N4)\n",
    "    dev_N2 = mechkit.operators.dev(N2, order=2)\n",
    "    print(\"N4=\")\n",
    "    print(N4_mandel)\n",
    "    print(\"dev_N4=\")\n",
    "    print(dev_N4)\n",
    "    print(\"N2=\")\n",
    "    print(N2)\n",
    "    print(\"dev_N2=\")\n",
    "    print(dev_N2)"
   ]
  },
  {
   "cell_type": "markdown",
   "metadata": {},
   "source": [
    "## Isotropic N4: No deviation from the isotropic fourth order fiber orientation tensor"
   ]
  },
  {
   "cell_type": "code",
   "execution_count": 4,
   "metadata": {
    "execution": {
     "iopub.execute_input": "2022-02-02T20:07:22.708907Z",
     "iopub.status.busy": "2022-02-02T20:07:22.708440Z",
     "iopub.status.idle": "2022-02-02T20:07:22.738335Z",
     "shell.execute_reply": "2022-02-02T20:07:22.738700Z"
    }
   },
   "outputs": [
    {
     "name": "stdout",
     "output_type": "stream",
     "text": [
      "Isotropic\n",
      "N4=\n",
      "[[0.2   0.067 0.067 0.    0.    0.   ]\n",
      " [0.067 0.2   0.067 0.    0.    0.   ]\n",
      " [0.067 0.067 0.2   0.    0.    0.   ]\n",
      " [0.    0.    0.    0.133 0.    0.   ]\n",
      " [0.    0.    0.    0.    0.133 0.   ]\n",
      " [0.    0.    0.    0.    0.    0.133]]\n",
      "dev_N4=\n",
      "[[ 1.943e-16 -2.429e-17 -2.429e-17  0.000e+00  0.000e+00  0.000e+00]\n",
      " [-2.429e-17  1.943e-16 -2.429e-17  0.000e+00  0.000e+00  0.000e+00]\n",
      " [-2.429e-17 -2.429e-17  1.943e-16  0.000e+00  0.000e+00  0.000e+00]\n",
      " [ 0.000e+00  0.000e+00  0.000e+00 -4.857e-17  0.000e+00  0.000e+00]\n",
      " [ 0.000e+00  0.000e+00  0.000e+00  0.000e+00 -4.857e-17  0.000e+00]\n",
      " [ 0.000e+00  0.000e+00  0.000e+00  0.000e+00  0.000e+00 -4.857e-17]]\n",
      "N2=\n",
      "[[0.333 0.    0.   ]\n",
      " [0.    0.333 0.   ]\n",
      " [0.    0.    0.333]]\n",
      "dev_N2=\n",
      "[[0.000e+00 0.000e+00 0.000e+00]\n",
      " [0.000e+00 0.000e+00 0.000e+00]\n",
      " [0.000e+00 0.000e+00 5.551e-17]]\n"
     ]
    }
   ],
   "source": [
    "print(\"Isotropic\")\n",
    "print_N2_and_deviators(N4_mandel=mechkit.fabric_tensors.Basic().N4[\"iso\"])"
   ]
  },
  {
   "cell_type": "markdown",
   "metadata": {},
   "source": [
    "## Unidirectional N4: Large deviations from isotropic fourth order fiber orientation tensor"
   ]
  },
  {
   "cell_type": "code",
   "execution_count": 5,
   "metadata": {
    "execution": {
     "iopub.execute_input": "2022-02-02T20:07:22.742765Z",
     "iopub.status.busy": "2022-02-02T20:07:22.742298Z",
     "iopub.status.idle": "2022-02-02T20:07:22.747371Z",
     "shell.execute_reply": "2022-02-02T20:07:22.746887Z"
    }
   },
   "outputs": [
    {
     "name": "stdout",
     "output_type": "stream",
     "text": [
      "Unidirectional\n",
      "N4=\n",
      "[[1. 0. 0. 0. 0. 0.]\n",
      " [0. 0. 0. 0. 0. 0.]\n",
      " [0. 0. 0. 0. 0. 0.]\n",
      " [0. 0. 0. 0. 0. 0.]\n",
      " [0. 0. 0. 0. 0. 0.]\n",
      " [0. 0. 0. 0. 0. 0.]]\n",
      "dev_N4=\n",
      "[[ 0.229 -0.114 -0.114  0.     0.     0.   ]\n",
      " [-0.114  0.086  0.029  0.     0.     0.   ]\n",
      " [-0.114  0.029  0.086  0.     0.     0.   ]\n",
      " [ 0.     0.     0.     0.057  0.     0.   ]\n",
      " [ 0.     0.     0.     0.    -0.229  0.   ]\n",
      " [ 0.     0.     0.     0.     0.    -0.229]]\n",
      "N2=\n",
      "[[1. 0. 0.]\n",
      " [0. 0. 0.]\n",
      " [0. 0. 0.]]\n",
      "dev_N2=\n",
      "[[ 0.667  0.     0.   ]\n",
      " [ 0.    -0.333  0.   ]\n",
      " [ 0.     0.    -0.333]]\n"
     ]
    }
   ],
   "source": [
    "print(\"Unidirectional\")\n",
    "print_N2_and_deviators(N4_mandel=mechkit.fabric_tensors.Basic().N4[\"ud_x\"])"
   ]
  }
 ],
 "metadata": {
  "kernelspec": {
   "display_name": "Python 3",
   "language": "python",
   "name": "python3"
  },
  "language_info": {
   "codemirror_mode": {
    "name": "ipython",
    "version": 3
   },
   "file_extension": ".py",
   "mimetype": "text/x-python",
   "name": "python",
   "nbconvert_exporter": "python",
   "pygments_lexer": "ipython3",
   "version": "3.9.7"
  }
 },
 "nbformat": 4,
 "nbformat_minor": 2
}
