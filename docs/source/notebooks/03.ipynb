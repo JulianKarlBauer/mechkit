{
 "cells": [
  {
   "cell_type": "markdown",
   "metadata": {},
   "source": [
    "# Notation: Converter Numeric"
   ]
  },
  {
   "cell_type": "code",
   "execution_count": 1,
   "metadata": {
    "execution": {
     "iopub.execute_input": "2022-02-02T19:45:24.000099Z",
     "iopub.status.busy": "2022-02-02T19:45:23.997153Z",
     "iopub.status.idle": "2022-02-02T19:45:24.399943Z",
     "shell.execute_reply": "2022-02-02T19:45:24.399501Z"
    }
   },
   "outputs": [],
   "source": [
    "import mechkit\n",
    "import numpy as np\n",
    "import sympy as sp\n",
    "import itertools"
   ]
  },
  {
   "cell_type": "code",
   "execution_count": 2,
   "metadata": {
    "execution": {
     "iopub.execute_input": "2022-02-02T19:45:24.402579Z",
     "iopub.status.busy": "2022-02-02T19:45:24.402263Z",
     "iopub.status.idle": "2022-02-02T19:45:24.403711Z",
     "shell.execute_reply": "2022-02-02T19:45:24.403978Z"
    }
   },
   "outputs": [],
   "source": [
    "np.set_printoptions(\n",
    "    linewidth=140,\n",
    "    precision=3,\n",
    "    # suppress=False,\n",
    ")\n",
    "converter = mechkit.notation.Converter()"
   ]
  },
  {
   "cell_type": "markdown",
   "metadata": {},
   "source": [
    "### Mandel6: symmetric, Mandel9: Mandel6 + asymmetric parts"
   ]
  },
  {
   "cell_type": "code",
   "execution_count": 3,
   "metadata": {
    "execution": {
     "iopub.execute_input": "2022-02-02T19:45:24.406903Z",
     "iopub.status.busy": "2022-02-02T19:45:24.406548Z",
     "iopub.status.idle": "2022-02-02T19:45:24.408281Z",
     "shell.execute_reply": "2022-02-02T19:45:24.407902Z"
    }
   },
   "outputs": [],
   "source": [
    "basics = mechkit.tensors.Basic()"
   ]
  },
  {
   "cell_type": "markdown",
   "metadata": {},
   "source": [
    "Symmetric identity"
   ]
  },
  {
   "cell_type": "code",
   "execution_count": 4,
   "metadata": {
    "execution": {
     "iopub.execute_input": "2022-02-02T19:45:24.410823Z",
     "iopub.status.busy": "2022-02-02T19:45:24.410468Z",
     "iopub.status.idle": "2022-02-02T19:45:24.437949Z",
     "shell.execute_reply": "2022-02-02T19:45:24.438299Z"
    }
   },
   "outputs": [
    {
     "name": "stdout",
     "output_type": "stream",
     "text": [
      "[[1. 0. 0. 0. 0. 0.]\n",
      " [0. 1. 0. 0. 0. 0.]\n",
      " [0. 0. 1. 0. 0. 0.]\n",
      " [0. 0. 0. 1. 0. 0.]\n",
      " [0. 0. 0. 0. 1. 0.]\n",
      " [0. 0. 0. 0. 0. 1.]]\n",
      "[[ 1.000e+00  0.000e+00  0.000e+00  0.000e+00  0.000e+00  0.000e+00  0.000e+00  0.000e+00  0.000e+00]\n",
      " [ 0.000e+00  1.000e+00  0.000e+00  0.000e+00  0.000e+00  0.000e+00  0.000e+00  0.000e+00  0.000e+00]\n",
      " [ 0.000e+00  0.000e+00  1.000e+00  0.000e+00  0.000e+00  0.000e+00  0.000e+00  0.000e+00  0.000e+00]\n",
      " [ 0.000e+00  0.000e+00  0.000e+00  1.000e+00  0.000e+00  0.000e+00 -4.266e-17  0.000e+00  0.000e+00]\n",
      " [ 0.000e+00  0.000e+00  0.000e+00  0.000e+00  1.000e+00  0.000e+00  0.000e+00  4.266e-17  0.000e+00]\n",
      " [ 0.000e+00  0.000e+00  0.000e+00  0.000e+00  0.000e+00  1.000e+00  0.000e+00  0.000e+00 -4.266e-17]\n",
      " [ 0.000e+00  0.000e+00  0.000e+00  0.000e+00  0.000e+00  0.000e+00  0.000e+00  0.000e+00  0.000e+00]\n",
      " [ 0.000e+00  0.000e+00  0.000e+00  0.000e+00  0.000e+00  0.000e+00  0.000e+00  0.000e+00  0.000e+00]\n",
      " [ 0.000e+00  0.000e+00  0.000e+00  0.000e+00  0.000e+00  0.000e+00  0.000e+00  0.000e+00  0.000e+00]]\n"
     ]
    }
   ],
   "source": [
    "print(converter.to_mandel6(basics.I4s))\n",
    "print(converter.to_mandel9(basics.I4s))"
   ]
  },
  {
   "cell_type": "markdown",
   "metadata": {},
   "source": [
    "Asymmetric identity"
   ]
  },
  {
   "cell_type": "code",
   "execution_count": 5,
   "metadata": {
    "execution": {
     "iopub.execute_input": "2022-02-02T19:45:24.442551Z",
     "iopub.status.busy": "2022-02-02T19:45:24.442112Z",
     "iopub.status.idle": "2022-02-02T19:45:24.444644Z",
     "shell.execute_reply": "2022-02-02T19:45:24.444257Z"
    }
   },
   "outputs": [
    {
     "name": "stdout",
     "output_type": "stream",
     "text": [
      "[[0. 0. 0. 0. 0. 0.]\n",
      " [0. 0. 0. 0. 0. 0.]\n",
      " [0. 0. 0. 0. 0. 0.]\n",
      " [0. 0. 0. 0. 0. 0.]\n",
      " [0. 0. 0. 0. 0. 0.]\n",
      " [0. 0. 0. 0. 0. 0.]]\n",
      "[[ 0.000e+00  0.000e+00  0.000e+00  0.000e+00  0.000e+00  0.000e+00  0.000e+00  0.000e+00  0.000e+00]\n",
      " [ 0.000e+00  0.000e+00  0.000e+00  0.000e+00  0.000e+00  0.000e+00  0.000e+00  0.000e+00  0.000e+00]\n",
      " [ 0.000e+00  0.000e+00  0.000e+00  0.000e+00  0.000e+00  0.000e+00  0.000e+00  0.000e+00  0.000e+00]\n",
      " [ 0.000e+00  0.000e+00  0.000e+00  0.000e+00  0.000e+00  0.000e+00  0.000e+00  0.000e+00  0.000e+00]\n",
      " [ 0.000e+00  0.000e+00  0.000e+00  0.000e+00  0.000e+00  0.000e+00  0.000e+00  0.000e+00  0.000e+00]\n",
      " [ 0.000e+00  0.000e+00  0.000e+00  0.000e+00  0.000e+00  0.000e+00  0.000e+00  0.000e+00  0.000e+00]\n",
      " [ 0.000e+00  0.000e+00  0.000e+00 -4.266e-17  0.000e+00  0.000e+00  1.000e+00  0.000e+00  0.000e+00]\n",
      " [ 0.000e+00  0.000e+00  0.000e+00  0.000e+00  4.266e-17  0.000e+00  0.000e+00  1.000e+00  0.000e+00]\n",
      " [ 0.000e+00  0.000e+00  0.000e+00  0.000e+00  0.000e+00 -4.266e-17  0.000e+00  0.000e+00  1.000e+00]]\n"
     ]
    }
   ],
   "source": [
    "print(converter.to_mandel6(basics.I4a))\n",
    "print(converter.to_mandel9(basics.I4a))"
   ]
  },
  {
   "cell_type": "markdown",
   "metadata": {},
   "source": [
    "### Convenient autodetection of the notation: Specify only target"
   ]
  },
  {
   "cell_type": "code",
   "execution_count": 6,
   "metadata": {
    "execution": {
     "iopub.execute_input": "2022-02-02T19:45:24.450315Z",
     "iopub.status.busy": "2022-02-02T19:45:24.449874Z",
     "iopub.status.idle": "2022-02-02T19:45:24.452581Z",
     "shell.execute_reply": "2022-02-02T19:45:24.452005Z"
    }
   },
   "outputs": [
    {
     "name": "stdout",
     "output_type": "stream",
     "text": [
      "[[[[1. 1. 1.]\n",
      "   [1. 1. 1.]\n",
      "   [1. 1. 1.]]\n",
      "\n",
      "  [[1. 1. 1.]\n",
      "   [1. 1. 1.]\n",
      "   [1. 1. 1.]]\n",
      "\n",
      "  [[1. 1. 1.]\n",
      "   [1. 1. 1.]\n",
      "   [1. 1. 1.]]]\n",
      "\n",
      "\n",
      " [[[1. 1. 1.]\n",
      "   [1. 1. 1.]\n",
      "   [1. 1. 1.]]\n",
      "\n",
      "  [[1. 1. 1.]\n",
      "   [1. 1. 1.]\n",
      "   [1. 1. 1.]]\n",
      "\n",
      "  [[1. 1. 1.]\n",
      "   [1. 1. 1.]\n",
      "   [1. 1. 1.]]]\n",
      "\n",
      "\n",
      " [[[1. 1. 1.]\n",
      "   [1. 1. 1.]\n",
      "   [1. 1. 1.]]\n",
      "\n",
      "  [[1. 1. 1.]\n",
      "   [1. 1. 1.]\n",
      "   [1. 1. 1.]]\n",
      "\n",
      "  [[1. 1. 1.]\n",
      "   [1. 1. 1.]\n",
      "   [1. 1. 1.]]]]\n",
      "[[1.    1.    1.    1.414 1.414 1.414]\n",
      " [1.    1.    1.    1.414 1.414 1.414]\n",
      " [1.    1.    1.    1.414 1.414 1.414]\n",
      " [1.414 1.414 1.414 2.    2.    2.   ]\n",
      " [1.414 1.414 1.414 2.    2.    2.   ]\n",
      " [1.414 1.414 1.414 2.    2.    2.   ]]\n",
      "[[1.    1.    1.    1.414 1.414 1.414 0.    0.    0.   ]\n",
      " [1.    1.    1.    1.414 1.414 1.414 0.    0.    0.   ]\n",
      " [1.    1.    1.    1.414 1.414 1.414 0.    0.    0.   ]\n",
      " [1.414 1.414 1.414 2.    2.    2.    0.    0.    0.   ]\n",
      " [1.414 1.414 1.414 2.    2.    2.    0.    0.    0.   ]\n",
      " [1.414 1.414 1.414 2.    2.    2.    0.    0.    0.   ]\n",
      " [0.    0.    0.    0.    0.    0.    0.    0.    0.   ]\n",
      " [0.    0.    0.    0.    0.    0.    0.    0.    0.   ]\n",
      " [0.    0.    0.    0.    0.    0.    0.    0.    0.   ]]\n"
     ]
    }
   ],
   "source": [
    "tensor = np.ones((3, 3, 3, 3))\n",
    "mandel6 = converter.to_mandel6(tensor)\n",
    "# Pass through\n",
    "print(converter.to_tensor(mandel6))\n",
    "print(converter.to_mandel6(mandel6))\n",
    "print(converter.to_mandel9(mandel6))"
   ]
  },
  {
   "cell_type": "markdown",
   "metadata": {},
   "source": [
    "### Vectorized explicit converter"
   ]
  },
  {
   "cell_type": "code",
   "execution_count": 7,
   "metadata": {
    "execution": {
     "iopub.execute_input": "2022-02-02T19:45:24.456101Z",
     "iopub.status.busy": "2022-02-02T19:45:24.455621Z",
     "iopub.status.idle": "2022-02-02T19:45:24.648766Z",
     "shell.execute_reply": "2022-02-02T19:45:24.649193Z"
    }
   },
   "outputs": [],
   "source": [
    "expl_converter = mechkit.notation.ExplicitConverter()"
   ]
  },
  {
   "cell_type": "code",
   "execution_count": 8,
   "metadata": {
    "execution": {
     "iopub.execute_input": "2022-02-02T19:45:24.653026Z",
     "iopub.status.busy": "2022-02-02T19:45:24.652486Z",
     "iopub.status.idle": "2022-02-02T19:45:24.654773Z",
     "shell.execute_reply": "2022-02-02T19:45:24.654199Z"
    }
   },
   "outputs": [],
   "source": [
    "tensors = np.ones((2, 5, 3, 3, 3, 3))  # We have 5 times 2 tensors of fourth order"
   ]
  },
  {
   "cell_type": "code",
   "execution_count": 9,
   "metadata": {
    "execution": {
     "iopub.execute_input": "2022-02-02T19:45:24.658551Z",
     "iopub.status.busy": "2022-02-02T19:45:24.658033Z",
     "iopub.status.idle": "2022-02-02T19:45:24.660505Z",
     "shell.execute_reply": "2022-02-02T19:45:24.659932Z"
    }
   },
   "outputs": [],
   "source": [
    "mandel6s = expl_converter.convert(\n",
    "    inp=tensors, source=\"tensor\", target=\"mandel6\", quantity=\"stiffness\"\n",
    ")"
   ]
  },
  {
   "cell_type": "code",
   "execution_count": 10,
   "metadata": {
    "execution": {
     "iopub.execute_input": "2022-02-02T19:45:24.669514Z",
     "iopub.status.busy": "2022-02-02T19:45:24.669028Z",
     "iopub.status.idle": "2022-02-02T19:45:24.671800Z",
     "shell.execute_reply": "2022-02-02T19:45:24.672172Z"
    }
   },
   "outputs": [
    {
     "name": "stdout",
     "output_type": "stream",
     "text": [
      "Tensor at position 0, 0 in Mandel6 notation\n",
      "[[1.    1.    1.    1.414 1.414 1.414]\n",
      " [1.    1.    1.    1.414 1.414 1.414]\n",
      " [1.    1.    1.    1.414 1.414 1.414]\n",
      " [1.414 1.414 1.414 2.    2.    2.   ]\n",
      " [1.414 1.414 1.414 2.    2.    2.   ]\n",
      " [1.414 1.414 1.414 2.    2.    2.   ]]\n",
      "\n",
      "Tensor at position 0, 1 in Mandel6 notation\n",
      "[[1.    1.    1.    1.414 1.414 1.414]\n",
      " [1.    1.    1.    1.414 1.414 1.414]\n",
      " [1.    1.    1.    1.414 1.414 1.414]\n",
      " [1.414 1.414 1.414 2.    2.    2.   ]\n",
      " [1.414 1.414 1.414 2.    2.    2.   ]\n",
      " [1.414 1.414 1.414 2.    2.    2.   ]]\n",
      "\n",
      "Tensor at position 0, 2 in Mandel6 notation\n",
      "[[1.    1.    1.    1.414 1.414 1.414]\n",
      " [1.    1.    1.    1.414 1.414 1.414]\n",
      " [1.    1.    1.    1.414 1.414 1.414]\n",
      " [1.414 1.414 1.414 2.    2.    2.   ]\n",
      " [1.414 1.414 1.414 2.    2.    2.   ]\n",
      " [1.414 1.414 1.414 2.    2.    2.   ]]\n",
      "\n",
      "Tensor at position 0, 3 in Mandel6 notation\n",
      "[[1.    1.    1.    1.414 1.414 1.414]\n",
      " [1.    1.    1.    1.414 1.414 1.414]\n",
      " [1.    1.    1.    1.414 1.414 1.414]\n",
      " [1.414 1.414 1.414 2.    2.    2.   ]\n",
      " [1.414 1.414 1.414 2.    2.    2.   ]\n",
      " [1.414 1.414 1.414 2.    2.    2.   ]]\n",
      "\n",
      "Tensor at position 0, 4 in Mandel6 notation\n",
      "[[1.    1.    1.    1.414 1.414 1.414]\n",
      " [1.    1.    1.    1.414 1.414 1.414]\n",
      " [1.    1.    1.    1.414 1.414 1.414]\n",
      " [1.414 1.414 1.414 2.    2.    2.   ]\n",
      " [1.414 1.414 1.414 2.    2.    2.   ]\n",
      " [1.414 1.414 1.414 2.    2.    2.   ]]\n",
      "\n",
      "Tensor at position 1, 0 in Mandel6 notation\n",
      "[[1.    1.    1.    1.414 1.414 1.414]\n",
      " [1.    1.    1.    1.414 1.414 1.414]\n",
      " [1.    1.    1.    1.414 1.414 1.414]\n",
      " [1.414 1.414 1.414 2.    2.    2.   ]\n",
      " [1.414 1.414 1.414 2.    2.    2.   ]\n",
      " [1.414 1.414 1.414 2.    2.    2.   ]]\n",
      "\n",
      "Tensor at position 1, 1 in Mandel6 notation\n",
      "[[1.    1.    1.    1.414 1.414 1.414]\n",
      " [1.    1.    1.    1.414 1.414 1.414]\n",
      " [1.    1.    1.    1.414 1.414 1.414]\n",
      " [1.414 1.414 1.414 2.    2.    2.   ]\n",
      " [1.414 1.414 1.414 2.    2.    2.   ]\n",
      " [1.414 1.414 1.414 2.    2.    2.   ]]\n",
      "\n",
      "Tensor at position 1, 2 in Mandel6 notation\n",
      "[[1.    1.    1.    1.414 1.414 1.414]\n",
      " [1.    1.    1.    1.414 1.414 1.414]\n",
      " [1.    1.    1.    1.414 1.414 1.414]\n",
      " [1.414 1.414 1.414 2.    2.    2.   ]\n",
      " [1.414 1.414 1.414 2.    2.    2.   ]\n",
      " [1.414 1.414 1.414 2.    2.    2.   ]]\n",
      "\n",
      "Tensor at position 1, 3 in Mandel6 notation\n",
      "[[1.    1.    1.    1.414 1.414 1.414]\n",
      " [1.    1.    1.    1.414 1.414 1.414]\n",
      " [1.    1.    1.    1.414 1.414 1.414]\n",
      " [1.414 1.414 1.414 2.    2.    2.   ]\n",
      " [1.414 1.414 1.414 2.    2.    2.   ]\n",
      " [1.414 1.414 1.414 2.    2.    2.   ]]\n",
      "\n",
      "Tensor at position 1, 4 in Mandel6 notation\n",
      "[[1.    1.    1.    1.414 1.414 1.414]\n",
      " [1.    1.    1.    1.414 1.414 1.414]\n",
      " [1.    1.    1.    1.414 1.414 1.414]\n",
      " [1.414 1.414 1.414 2.    2.    2.   ]\n",
      " [1.414 1.414 1.414 2.    2.    2.   ]\n",
      " [1.414 1.414 1.414 2.    2.    2.   ]]\n",
      "\n"
     ]
    }
   ],
   "source": [
    "for i in range(2):\n",
    "    for j in range(5):\n",
    "        print(f\"Tensor at position {i}, {j} in Mandel6 notation\")\n",
    "        print(mandel6s[i, j, ...])\n",
    "        print()"
   ]
  }
 ],
 "metadata": {
  "kernelspec": {
   "display_name": "Python 3",
   "language": "python",
   "name": "python3"
  },
  "language_info": {
   "codemirror_mode": {
    "name": "ipython",
    "version": 3
   },
   "file_extension": ".py",
   "mimetype": "text/x-python",
   "name": "python",
   "nbconvert_exporter": "python",
   "pygments_lexer": "ipython3",
   "version": "3.9.7"
  }
 },
 "nbformat": 4,
 "nbformat_minor": 2
}
