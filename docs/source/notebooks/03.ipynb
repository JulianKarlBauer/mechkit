{
 "cells": [
  {
   "cell_type": "markdown",
   "id": "2a30d6f8",
   "metadata": {},
   "source": [
    "# Notation: Converter Numeric"
   ]
  },
  {
   "cell_type": "code",
   "execution_count": 1,
   "id": "d2ff3105",
   "metadata": {
    "execution": {
     "iopub.execute_input": "2022-02-03T13:19:50.118877Z",
     "iopub.status.busy": "2022-02-03T13:19:50.116123Z",
     "iopub.status.idle": "2022-02-03T13:19:50.488485Z",
     "shell.execute_reply": "2022-02-03T13:19:50.488083Z"
    }
   },
   "outputs": [],
   "source": [
    "import mechkit\n",
    "import numpy as np\n",
    "import sympy as sp\n",
    "import itertools"
   ]
  },
  {
   "cell_type": "code",
   "execution_count": 2,
   "id": "f98a0602",
   "metadata": {
    "execution": {
     "iopub.execute_input": "2022-02-03T13:19:50.491093Z",
     "iopub.status.busy": "2022-02-03T13:19:50.490784Z",
     "iopub.status.idle": "2022-02-03T13:19:50.492689Z",
     "shell.execute_reply": "2022-02-03T13:19:50.492340Z"
    }
   },
   "outputs": [],
   "source": [
    "np.set_printoptions(\n",
    "    linewidth=140,\n",
    "    precision=3,\n",
    "    # suppress=False,\n",
    ")\n",
    "converter = mechkit.notation.Converter()"
   ]
  },
  {
   "cell_type": "code",
   "execution_count": 3,
   "id": "2cb50b76",
   "metadata": {
    "execution": {
     "iopub.execute_input": "2022-02-03T13:19:50.494987Z",
     "iopub.status.busy": "2022-02-03T13:19:50.494662Z",
     "iopub.status.idle": "2022-02-03T13:19:50.496734Z",
     "shell.execute_reply": "2022-02-03T13:19:50.496387Z"
    }
   },
   "outputs": [],
   "source": [
    "# ### Mandel6: symmetric, Mandel9: Mandel6 + asymmetric parts\n",
    "basics = mechkit.tensors.Basic()"
   ]
  },
  {
   "cell_type": "code",
   "execution_count": 4,
   "id": "174f6628",
   "metadata": {
    "execution": {
     "iopub.execute_input": "2022-02-03T13:19:50.499134Z",
     "iopub.status.busy": "2022-02-03T13:19:50.498638Z",
     "iopub.status.idle": "2022-02-03T13:19:50.522063Z",
     "shell.execute_reply": "2022-02-03T13:19:50.521710Z"
    }
   },
   "outputs": [
    {
     "name": "stdout",
     "output_type": "stream",
     "text": [
      "[[1. 0. 0. 0. 0. 0.]\n",
      " [0. 1. 0. 0. 0. 0.]\n",
      " [0. 0. 1. 0. 0. 0.]\n",
      " [0. 0. 0. 1. 0. 0.]\n",
      " [0. 0. 0. 0. 1. 0.]\n",
      " [0. 0. 0. 0. 0. 1.]]\n",
      "[[ 1.000e+00  0.000e+00  0.000e+00  0.000e+00  0.000e+00  0.000e+00  0.000e+00  0.000e+00  0.000e+00]\n",
      " [ 0.000e+00  1.000e+00  0.000e+00  0.000e+00  0.000e+00  0.000e+00  0.000e+00  0.000e+00  0.000e+00]\n",
      " [ 0.000e+00  0.000e+00  1.000e+00  0.000e+00  0.000e+00  0.000e+00  0.000e+00  0.000e+00  0.000e+00]\n",
      " [ 0.000e+00  0.000e+00  0.000e+00  1.000e+00  0.000e+00  0.000e+00 -4.266e-17  0.000e+00  0.000e+00]\n",
      " [ 0.000e+00  0.000e+00  0.000e+00  0.000e+00  1.000e+00  0.000e+00  0.000e+00  4.266e-17  0.000e+00]\n",
      " [ 0.000e+00  0.000e+00  0.000e+00  0.000e+00  0.000e+00  1.000e+00  0.000e+00  0.000e+00 -4.266e-17]\n",
      " [ 0.000e+00  0.000e+00  0.000e+00  0.000e+00  0.000e+00  0.000e+00  0.000e+00  0.000e+00  0.000e+00]\n",
      " [ 0.000e+00  0.000e+00  0.000e+00  0.000e+00  0.000e+00  0.000e+00  0.000e+00  0.000e+00  0.000e+00]\n",
      " [ 0.000e+00  0.000e+00  0.000e+00  0.000e+00  0.000e+00  0.000e+00  0.000e+00  0.000e+00  0.000e+00]]\n"
     ]
    }
   ],
   "source": [
    "# Symmetric identity\n",
    "print(converter.to_mandel6(basics.I4s))\n",
    "print(converter.to_mandel9(basics.I4s))"
   ]
  },
  {
   "cell_type": "code",
   "execution_count": 5,
   "id": "4d0aa3d0",
   "metadata": {
    "execution": {
     "iopub.execute_input": "2022-02-03T13:19:50.526102Z",
     "iopub.status.busy": "2022-02-03T13:19:50.525666Z",
     "iopub.status.idle": "2022-02-03T13:19:50.528074Z",
     "shell.execute_reply": "2022-02-03T13:19:50.527677Z"
    }
   },
   "outputs": [
    {
     "name": "stdout",
     "output_type": "stream",
     "text": [
      "[[0. 0. 0. 0. 0. 0.]\n",
      " [0. 0. 0. 0. 0. 0.]\n",
      " [0. 0. 0. 0. 0. 0.]\n",
      " [0. 0. 0. 0. 0. 0.]\n",
      " [0. 0. 0. 0. 0. 0.]\n",
      " [0. 0. 0. 0. 0. 0.]]\n",
      "[[ 0.000e+00  0.000e+00  0.000e+00  0.000e+00  0.000e+00  0.000e+00  0.000e+00  0.000e+00  0.000e+00]\n",
      " [ 0.000e+00  0.000e+00  0.000e+00  0.000e+00  0.000e+00  0.000e+00  0.000e+00  0.000e+00  0.000e+00]\n",
      " [ 0.000e+00  0.000e+00  0.000e+00  0.000e+00  0.000e+00  0.000e+00  0.000e+00  0.000e+00  0.000e+00]\n",
      " [ 0.000e+00  0.000e+00  0.000e+00  0.000e+00  0.000e+00  0.000e+00  0.000e+00  0.000e+00  0.000e+00]\n",
      " [ 0.000e+00  0.000e+00  0.000e+00  0.000e+00  0.000e+00  0.000e+00  0.000e+00  0.000e+00  0.000e+00]\n",
      " [ 0.000e+00  0.000e+00  0.000e+00  0.000e+00  0.000e+00  0.000e+00  0.000e+00  0.000e+00  0.000e+00]\n",
      " [ 0.000e+00  0.000e+00  0.000e+00 -4.266e-17  0.000e+00  0.000e+00  1.000e+00  0.000e+00  0.000e+00]\n",
      " [ 0.000e+00  0.000e+00  0.000e+00  0.000e+00  4.266e-17  0.000e+00  0.000e+00  1.000e+00  0.000e+00]\n",
      " [ 0.000e+00  0.000e+00  0.000e+00  0.000e+00  0.000e+00 -4.266e-17  0.000e+00  0.000e+00  1.000e+00]]\n"
     ]
    }
   ],
   "source": [
    "# Asymmetric identity\n",
    "print(converter.to_mandel6(basics.I4a))\n",
    "print(converter.to_mandel9(basics.I4a))"
   ]
  },
  {
   "cell_type": "markdown",
   "id": "c6604253",
   "metadata": {},
   "source": [
    "### Convenient autodetection of the notation: Specify only target"
   ]
  },
  {
   "cell_type": "code",
   "execution_count": 6,
   "id": "e5f681d9",
   "metadata": {
    "execution": {
     "iopub.execute_input": "2022-02-03T13:19:50.533004Z",
     "iopub.status.busy": "2022-02-03T13:19:50.532553Z",
     "iopub.status.idle": "2022-02-03T13:19:50.535027Z",
     "shell.execute_reply": "2022-02-03T13:19:50.534628Z"
    }
   },
   "outputs": [
    {
     "name": "stdout",
     "output_type": "stream",
     "text": [
      "[[[[1. 1. 1.]\n",
      "   [1. 1. 1.]\n",
      "   [1. 1. 1.]]\n",
      "\n",
      "  [[1. 1. 1.]\n",
      "   [1. 1. 1.]\n",
      "   [1. 1. 1.]]\n",
      "\n",
      "  [[1. 1. 1.]\n",
      "   [1. 1. 1.]\n",
      "   [1. 1. 1.]]]\n",
      "\n",
      "\n",
      " [[[1. 1. 1.]\n",
      "   [1. 1. 1.]\n",
      "   [1. 1. 1.]]\n",
      "\n",
      "  [[1. 1. 1.]\n",
      "   [1. 1. 1.]\n",
      "   [1. 1. 1.]]\n",
      "\n",
      "  [[1. 1. 1.]\n",
      "   [1. 1. 1.]\n",
      "   [1. 1. 1.]]]\n",
      "\n",
      "\n",
      " [[[1. 1. 1.]\n",
      "   [1. 1. 1.]\n",
      "   [1. 1. 1.]]\n",
      "\n",
      "  [[1. 1. 1.]\n",
      "   [1. 1. 1.]\n",
      "   [1. 1. 1.]]\n",
      "\n",
      "  [[1. 1. 1.]\n",
      "   [1. 1. 1.]\n",
      "   [1. 1. 1.]]]]\n",
      "[[1.    1.    1.    1.414 1.414 1.414]\n",
      " [1.    1.    1.    1.414 1.414 1.414]\n",
      " [1.    1.    1.    1.414 1.414 1.414]\n",
      " [1.414 1.414 1.414 2.    2.    2.   ]\n",
      " [1.414 1.414 1.414 2.    2.    2.   ]\n",
      " [1.414 1.414 1.414 2.    2.    2.   ]]\n",
      "[[1.    1.    1.    1.414 1.414 1.414 0.    0.    0.   ]\n",
      " [1.    1.    1.    1.414 1.414 1.414 0.    0.    0.   ]\n",
      " [1.    1.    1.    1.414 1.414 1.414 0.    0.    0.   ]\n",
      " [1.414 1.414 1.414 2.    2.    2.    0.    0.    0.   ]\n",
      " [1.414 1.414 1.414 2.    2.    2.    0.    0.    0.   ]\n",
      " [1.414 1.414 1.414 2.    2.    2.    0.    0.    0.   ]\n",
      " [0.    0.    0.    0.    0.    0.    0.    0.    0.   ]\n",
      " [0.    0.    0.    0.    0.    0.    0.    0.    0.   ]\n",
      " [0.    0.    0.    0.    0.    0.    0.    0.    0.   ]]\n"
     ]
    }
   ],
   "source": [
    "tensor = np.ones((3, 3, 3, 3))\n",
    "mandel6 = converter.to_mandel6(tensor)\n",
    "# Pass through\n",
    "print(converter.to_tensor(mandel6))\n",
    "print(converter.to_mandel6(mandel6))\n",
    "print(converter.to_mandel9(mandel6))"
   ]
  },
  {
   "cell_type": "markdown",
   "id": "a42bde32",
   "metadata": {},
   "source": [
    "### Vectorized explicit converter"
   ]
  },
  {
   "cell_type": "code",
   "execution_count": 7,
   "id": "36c13baf",
   "metadata": {
    "execution": {
     "iopub.execute_input": "2022-02-03T13:19:50.538357Z",
     "iopub.status.busy": "2022-02-03T13:19:50.537724Z",
     "iopub.status.idle": "2022-02-03T13:19:50.699994Z",
     "shell.execute_reply": "2022-02-03T13:19:50.699432Z"
    }
   },
   "outputs": [],
   "source": [
    "expl_converter = mechkit.notation.ExplicitConverter()"
   ]
  },
  {
   "cell_type": "code",
   "execution_count": 8,
   "id": "11c4f4ea",
   "metadata": {
    "execution": {
     "iopub.execute_input": "2022-02-03T13:19:50.703933Z",
     "iopub.status.busy": "2022-02-03T13:19:50.703249Z",
     "iopub.status.idle": "2022-02-03T13:19:50.705857Z",
     "shell.execute_reply": "2022-02-03T13:19:50.705419Z"
    }
   },
   "outputs": [],
   "source": [
    "tensors = np.ones((2, 5, 3, 3, 3, 3))  # We have 5 times 2 tensors of fourth order"
   ]
  },
  {
   "cell_type": "code",
   "execution_count": 9,
   "id": "4c6d2998",
   "metadata": {
    "execution": {
     "iopub.execute_input": "2022-02-03T13:19:50.709704Z",
     "iopub.status.busy": "2022-02-03T13:19:50.709048Z",
     "iopub.status.idle": "2022-02-03T13:19:50.711496Z",
     "shell.execute_reply": "2022-02-03T13:19:50.711021Z"
    }
   },
   "outputs": [],
   "source": [
    "mandel6s = expl_converter.convert(\n",
    "    inp=tensors, source=\"tensor\", target=\"mandel6\", quantity=\"stiffness\"\n",
    ")"
   ]
  },
  {
   "cell_type": "code",
   "execution_count": 10,
   "id": "3c28ab16",
   "metadata": {
    "execution": {
     "iopub.execute_input": "2022-02-03T13:19:50.718567Z",
     "iopub.status.busy": "2022-02-03T13:19:50.718005Z",
     "iopub.status.idle": "2022-02-03T13:19:50.721423Z",
     "shell.execute_reply": "2022-02-03T13:19:50.721751Z"
    }
   },
   "outputs": [
    {
     "name": "stdout",
     "output_type": "stream",
     "text": [
      "Tensor at position 0, 0 in Mandel6 notation\n",
      "[[1.    1.    1.    1.414 1.414 1.414]\n",
      " [1.    1.    1.    1.414 1.414 1.414]\n",
      " [1.    1.    1.    1.414 1.414 1.414]\n",
      " [1.414 1.414 1.414 2.    2.    2.   ]\n",
      " [1.414 1.414 1.414 2.    2.    2.   ]\n",
      " [1.414 1.414 1.414 2.    2.    2.   ]]\n",
      "\n",
      "Tensor at position 0, 1 in Mandel6 notation\n",
      "[[1.    1.    1.    1.414 1.414 1.414]\n",
      " [1.    1.    1.    1.414 1.414 1.414]\n",
      " [1.    1.    1.    1.414 1.414 1.414]\n",
      " [1.414 1.414 1.414 2.    2.    2.   ]\n",
      " [1.414 1.414 1.414 2.    2.    2.   ]\n",
      " [1.414 1.414 1.414 2.    2.    2.   ]]\n",
      "\n",
      "Tensor at position 0, 2 in Mandel6 notation\n",
      "[[1.    1.    1.    1.414 1.414 1.414]\n",
      " [1.    1.    1.    1.414 1.414 1.414]\n",
      " [1.    1.    1.    1.414 1.414 1.414]\n",
      " [1.414 1.414 1.414 2.    2.    2.   ]\n",
      " [1.414 1.414 1.414 2.    2.    2.   ]\n",
      " [1.414 1.414 1.414 2.    2.    2.   ]]\n",
      "\n",
      "Tensor at position 0, 3 in Mandel6 notation\n",
      "[[1.    1.    1.    1.414 1.414 1.414]\n",
      " [1.    1.    1.    1.414 1.414 1.414]\n",
      " [1.    1.    1.    1.414 1.414 1.414]\n",
      " [1.414 1.414 1.414 2.    2.    2.   ]\n",
      " [1.414 1.414 1.414 2.    2.    2.   ]\n",
      " [1.414 1.414 1.414 2.    2.    2.   ]]\n",
      "\n",
      "Tensor at position 0, 4 in Mandel6 notation\n",
      "[[1.    1.    1.    1.414 1.414 1.414]\n",
      " [1.    1.    1.    1.414 1.414 1.414]\n",
      " [1.    1.    1.    1.414 1.414 1.414]\n",
      " [1.414 1.414 1.414 2.    2.    2.   ]\n",
      " [1.414 1.414 1.414 2.    2.    2.   ]\n",
      " [1.414 1.414 1.414 2.    2.    2.   ]]\n",
      "\n",
      "Tensor at position 1, 0 in Mandel6 notation\n",
      "[[1.    1.    1.    1.414 1.414 1.414]\n",
      " [1.    1.    1.    1.414 1.414 1.414]\n",
      " [1.    1.    1.    1.414 1.414 1.414]\n",
      " [1.414 1.414 1.414 2.    2.    2.   ]\n",
      " [1.414 1.414 1.414 2.    2.    2.   ]\n",
      " [1.414 1.414 1.414 2.    2.    2.   ]]\n",
      "\n",
      "Tensor at position 1, 1 in Mandel6 notation\n",
      "[[1.    1.    1.    1.414 1.414 1.414]\n",
      " [1.    1.    1.    1.414 1.414 1.414]\n",
      " [1.    1.    1.    1.414 1.414 1.414]\n",
      " [1.414 1.414 1.414 2.    2.    2.   ]\n",
      " [1.414 1.414 1.414 2.    2.    2.   ]\n",
      " [1.414 1.414 1.414 2.    2.    2.   ]]\n",
      "\n",
      "Tensor at position 1, 2 in Mandel6 notation\n",
      "[[1.    1.    1.    1.414 1.414 1.414]\n",
      " [1.    1.    1.    1.414 1.414 1.414]\n",
      " [1.    1.    1.    1.414 1.414 1.414]\n",
      " [1.414 1.414 1.414 2.    2.    2.   ]\n",
      " [1.414 1.414 1.414 2.    2.    2.   ]\n",
      " [1.414 1.414 1.414 2.    2.    2.   ]]\n",
      "\n",
      "Tensor at position 1, 3 in Mandel6 notation\n",
      "[[1.    1.    1.    1.414 1.414 1.414]\n",
      " [1.    1.    1.    1.414 1.414 1.414]\n",
      " [1.    1.    1.    1.414 1.414 1.414]\n",
      " [1.414 1.414 1.414 2.    2.    2.   ]\n",
      " [1.414 1.414 1.414 2.    2.    2.   ]\n",
      " [1.414 1.414 1.414 2.    2.    2.   ]]\n",
      "\n",
      "Tensor at position 1, 4 in Mandel6 notation\n",
      "[[1.    1.    1.    1.414 1.414 1.414]\n",
      " [1.    1.    1.    1.414 1.414 1.414]\n",
      " [1.    1.    1.    1.414 1.414 1.414]\n",
      " [1.414 1.414 1.414 2.    2.    2.   ]\n",
      " [1.414 1.414 1.414 2.    2.    2.   ]\n",
      " [1.414 1.414 1.414 2.    2.    2.   ]]\n",
      "\n"
     ]
    }
   ],
   "source": [
    "for i in range(2):\n",
    "    for j in range(5):\n",
    "        print(f\"Tensor at position {i}, {j} in Mandel6 notation\")\n",
    "        print(mandel6s[i, j, ...])\n",
    "        print()"
   ]
  }
 ],
 "metadata": {
  "jupytext": {
   "cell_metadata_filter": "-all",
   "main_language": "python",
   "notebook_metadata_filter": "-all"
  },
  "language_info": {
   "codemirror_mode": {
    "name": "ipython",
    "version": 3
   },
   "file_extension": ".py",
   "mimetype": "text/x-python",
   "name": "python",
   "nbconvert_exporter": "python",
   "pygments_lexer": "ipython3",
   "version": "3.9.7"
  }
 },
 "nbformat": 4,
 "nbformat_minor": 5
}
