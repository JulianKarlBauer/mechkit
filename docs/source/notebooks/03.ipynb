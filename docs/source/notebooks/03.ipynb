{
 "cells": [
  {
   "cell_type": "markdown",
   "metadata": {},
   "source": [
    "# Notation: Converter Numeric"
   ]
  },
  {
   "cell_type": "code",
   "execution_count": 1,
   "metadata": {
    "execution": {
     "iopub.execute_input": "2022-01-11T13:30:48.083339Z",
     "iopub.status.busy": "2022-01-11T13:30:48.073656Z",
     "iopub.status.idle": "2022-01-11T13:30:48.521172Z",
     "shell.execute_reply": "2022-01-11T13:30:48.520767Z"
    }
   },
   "outputs": [],
   "source": [
    "import mechkit\n",
    "import numpy as np\n",
    "import sympy as sp\n",
    "import itertools"
   ]
  },
  {
   "cell_type": "code",
   "execution_count": 2,
   "metadata": {
    "execution": {
     "iopub.execute_input": "2022-01-11T13:30:48.523974Z",
     "iopub.status.busy": "2022-01-11T13:30:48.523612Z",
     "iopub.status.idle": "2022-01-11T13:30:48.525097Z",
     "shell.execute_reply": "2022-01-11T13:30:48.525387Z"
    }
   },
   "outputs": [],
   "source": [
    "np.set_printoptions(\n",
    "    linewidth=140,\n",
    "    precision=3,\n",
    "    # suppress=False,\n",
    ")\n",
    "converter = mechkit.notation.Converter()"
   ]
  },
  {
   "cell_type": "markdown",
   "metadata": {},
   "source": [
    "### Mandel6: symmetric, Mandel9: Mandel6 + asymmetric parts"
   ]
  },
  {
   "cell_type": "code",
   "execution_count": 3,
   "metadata": {
    "execution": {
     "iopub.execute_input": "2022-01-11T13:30:48.528113Z",
     "iopub.status.busy": "2022-01-11T13:30:48.527758Z",
     "iopub.status.idle": "2022-01-11T13:30:48.529508Z",
     "shell.execute_reply": "2022-01-11T13:30:48.529142Z"
    }
   },
   "outputs": [],
   "source": [
    "basics = mechkit.tensors.Basic()"
   ]
  },
  {
   "cell_type": "markdown",
   "metadata": {},
   "source": [
    "Symmetric identity"
   ]
  },
  {
   "cell_type": "code",
   "execution_count": 4,
   "metadata": {
    "execution": {
     "iopub.execute_input": "2022-01-11T13:30:48.532189Z",
     "iopub.status.busy": "2022-01-11T13:30:48.531752Z",
     "iopub.status.idle": "2022-01-11T13:30:48.556467Z",
     "shell.execute_reply": "2022-01-11T13:30:48.556077Z"
    }
   },
   "outputs": [
    {
     "name": "stdout",
     "output_type": "stream",
     "text": [
      "[[1. 0. 0. 0. 0. 0.]\n",
      " [0. 1. 0. 0. 0. 0.]\n",
      " [0. 0. 1. 0. 0. 0.]\n",
      " [0. 0. 0. 1. 0. 0.]\n",
      " [0. 0. 0. 0. 1. 0.]\n",
      " [0. 0. 0. 0. 0. 1.]]\n",
      "[[ 1.000e+00  0.000e+00  0.000e+00  0.000e+00  0.000e+00  0.000e+00  0.000e+00  0.000e+00  0.000e+00]\n",
      " [ 0.000e+00  1.000e+00  0.000e+00  0.000e+00  0.000e+00  0.000e+00  0.000e+00  0.000e+00  0.000e+00]\n",
      " [ 0.000e+00  0.000e+00  1.000e+00  0.000e+00  0.000e+00  0.000e+00  0.000e+00  0.000e+00  0.000e+00]\n",
      " [ 0.000e+00  0.000e+00  0.000e+00  1.000e+00  0.000e+00  0.000e+00 -4.266e-17  0.000e+00  0.000e+00]\n",
      " [ 0.000e+00  0.000e+00  0.000e+00  0.000e+00  1.000e+00  0.000e+00  0.000e+00  4.266e-17  0.000e+00]\n",
      " [ 0.000e+00  0.000e+00  0.000e+00  0.000e+00  0.000e+00  1.000e+00  0.000e+00  0.000e+00 -4.266e-17]\n",
      " [ 0.000e+00  0.000e+00  0.000e+00  0.000e+00  0.000e+00  0.000e+00  0.000e+00  0.000e+00  0.000e+00]\n",
      " [ 0.000e+00  0.000e+00  0.000e+00  0.000e+00  0.000e+00  0.000e+00  0.000e+00  0.000e+00  0.000e+00]\n",
      " [ 0.000e+00  0.000e+00  0.000e+00  0.000e+00  0.000e+00  0.000e+00  0.000e+00  0.000e+00  0.000e+00]]\n"
     ]
    }
   ],
   "source": [
    "print(converter.to_mandel6(basics.I4s))\n",
    "print(converter.to_mandel9(basics.I4s))"
   ]
  },
  {
   "cell_type": "markdown",
   "metadata": {},
   "source": [
    "Asymmetric identity"
   ]
  },
  {
   "cell_type": "code",
   "execution_count": 5,
   "metadata": {
    "execution": {
     "iopub.execute_input": "2022-01-11T13:30:48.560298Z",
     "iopub.status.busy": "2022-01-11T13:30:48.559914Z",
     "iopub.status.idle": "2022-01-11T13:30:48.562173Z",
     "shell.execute_reply": "2022-01-11T13:30:48.561784Z"
    }
   },
   "outputs": [
    {
     "name": "stdout",
     "output_type": "stream",
     "text": [
      "[[0. 0. 0. 0. 0. 0.]\n",
      " [0. 0. 0. 0. 0. 0.]\n",
      " [0. 0. 0. 0. 0. 0.]\n",
      " [0. 0. 0. 0. 0. 0.]\n",
      " [0. 0. 0. 0. 0. 0.]\n",
      " [0. 0. 0. 0. 0. 0.]]\n",
      "[[ 0.000e+00  0.000e+00  0.000e+00  0.000e+00  0.000e+00  0.000e+00  0.000e+00  0.000e+00  0.000e+00]\n",
      " [ 0.000e+00  0.000e+00  0.000e+00  0.000e+00  0.000e+00  0.000e+00  0.000e+00  0.000e+00  0.000e+00]\n",
      " [ 0.000e+00  0.000e+00  0.000e+00  0.000e+00  0.000e+00  0.000e+00  0.000e+00  0.000e+00  0.000e+00]\n",
      " [ 0.000e+00  0.000e+00  0.000e+00  0.000e+00  0.000e+00  0.000e+00  0.000e+00  0.000e+00  0.000e+00]\n",
      " [ 0.000e+00  0.000e+00  0.000e+00  0.000e+00  0.000e+00  0.000e+00  0.000e+00  0.000e+00  0.000e+00]\n",
      " [ 0.000e+00  0.000e+00  0.000e+00  0.000e+00  0.000e+00  0.000e+00  0.000e+00  0.000e+00  0.000e+00]\n",
      " [ 0.000e+00  0.000e+00  0.000e+00 -4.266e-17  0.000e+00  0.000e+00  1.000e+00  0.000e+00  0.000e+00]\n",
      " [ 0.000e+00  0.000e+00  0.000e+00  0.000e+00  4.266e-17  0.000e+00  0.000e+00  1.000e+00  0.000e+00]\n",
      " [ 0.000e+00  0.000e+00  0.000e+00  0.000e+00  0.000e+00 -4.266e-17  0.000e+00  0.000e+00  1.000e+00]]\n"
     ]
    }
   ],
   "source": [
    "print(converter.to_mandel6(basics.I4a))\n",
    "print(converter.to_mandel9(basics.I4a))"
   ]
  },
  {
   "cell_type": "markdown",
   "metadata": {},
   "source": [
    "### Convenient autodetection of the notation: Specify only target"
   ]
  },
  {
   "cell_type": "code",
   "execution_count": 6,
   "metadata": {
    "execution": {
     "iopub.execute_input": "2022-01-11T13:30:48.567034Z",
     "iopub.status.busy": "2022-01-11T13:30:48.566640Z",
     "iopub.status.idle": "2022-01-11T13:30:48.569072Z",
     "shell.execute_reply": "2022-01-11T13:30:48.568679Z"
    }
   },
   "outputs": [
    {
     "name": "stdout",
     "output_type": "stream",
     "text": [
      "[[[[1. 1. 1.]\n",
      "   [1. 1. 1.]\n",
      "   [1. 1. 1.]]\n",
      "\n",
      "  [[1. 1. 1.]\n",
      "   [1. 1. 1.]\n",
      "   [1. 1. 1.]]\n",
      "\n",
      "  [[1. 1. 1.]\n",
      "   [1. 1. 1.]\n",
      "   [1. 1. 1.]]]\n",
      "\n",
      "\n",
      " [[[1. 1. 1.]\n",
      "   [1. 1. 1.]\n",
      "   [1. 1. 1.]]\n",
      "\n",
      "  [[1. 1. 1.]\n",
      "   [1. 1. 1.]\n",
      "   [1. 1. 1.]]\n",
      "\n",
      "  [[1. 1. 1.]\n",
      "   [1. 1. 1.]\n",
      "   [1. 1. 1.]]]\n",
      "\n",
      "\n",
      " [[[1. 1. 1.]\n",
      "   [1. 1. 1.]\n",
      "   [1. 1. 1.]]\n",
      "\n",
      "  [[1. 1. 1.]\n",
      "   [1. 1. 1.]\n",
      "   [1. 1. 1.]]\n",
      "\n",
      "  [[1. 1. 1.]\n",
      "   [1. 1. 1.]\n",
      "   [1. 1. 1.]]]]\n",
      "[[1.    1.    1.    1.414 1.414 1.414]\n",
      " [1.    1.    1.    1.414 1.414 1.414]\n",
      " [1.    1.    1.    1.414 1.414 1.414]\n",
      " [1.414 1.414 1.414 2.    2.    2.   ]\n",
      " [1.414 1.414 1.414 2.    2.    2.   ]\n",
      " [1.414 1.414 1.414 2.    2.    2.   ]]\n",
      "[[1.    1.    1.    1.414 1.414 1.414 0.    0.    0.   ]\n",
      " [1.    1.    1.    1.414 1.414 1.414 0.    0.    0.   ]\n",
      " [1.    1.    1.    1.414 1.414 1.414 0.    0.    0.   ]\n",
      " [1.414 1.414 1.414 2.    2.    2.    0.    0.    0.   ]\n",
      " [1.414 1.414 1.414 2.    2.    2.    0.    0.    0.   ]\n",
      " [1.414 1.414 1.414 2.    2.    2.    0.    0.    0.   ]\n",
      " [0.    0.    0.    0.    0.    0.    0.    0.    0.   ]\n",
      " [0.    0.    0.    0.    0.    0.    0.    0.    0.   ]\n",
      " [0.    0.    0.    0.    0.    0.    0.    0.    0.   ]]\n"
     ]
    }
   ],
   "source": [
    "tensor = np.ones((3, 3, 3, 3))\n",
    "mandel6 = converter.to_mandel6(tensor)\n",
    "# Pass through\n",
    "print(converter.to_tensor(mandel6))\n",
    "print(converter.to_mandel6(mandel6))\n",
    "print(converter.to_mandel9(mandel6))"
   ]
  },
  {
   "cell_type": "markdown",
   "metadata": {},
   "source": [
    "### Vectorized explicit converter"
   ]
  },
  {
   "cell_type": "code",
   "execution_count": 7,
   "metadata": {
    "execution": {
     "iopub.execute_input": "2022-01-11T13:30:48.571697Z",
     "iopub.status.busy": "2022-01-11T13:30:48.571318Z",
     "iopub.status.idle": "2022-01-11T13:30:48.745976Z",
     "shell.execute_reply": "2022-01-11T13:30:48.745575Z"
    }
   },
   "outputs": [],
   "source": [
    "expl_converter = mechkit.notation.ExplicitConverter()"
   ]
  },
  {
   "cell_type": "code",
   "execution_count": 8,
   "metadata": {
    "execution": {
     "iopub.execute_input": "2022-01-11T13:30:48.748861Z",
     "iopub.status.busy": "2022-01-11T13:30:48.748468Z",
     "iopub.status.idle": "2022-01-11T13:30:48.750409Z",
     "shell.execute_reply": "2022-01-11T13:30:48.750010Z"
    }
   },
   "outputs": [],
   "source": [
    "tensors = np.ones(\n",
    "    (3, 3, 3, 3, 5, 2)\n",
    ")  # We have 5 times 2 tensors of fourth order"
   ]
  },
  {
   "cell_type": "code",
   "execution_count": 9,
   "metadata": {
    "execution": {
     "iopub.execute_input": "2022-01-11T13:30:48.753146Z",
     "iopub.status.busy": "2022-01-11T13:30:48.752768Z",
     "iopub.status.idle": "2022-01-11T13:30:48.754776Z",
     "shell.execute_reply": "2022-01-11T13:30:48.754394Z"
    }
   },
   "outputs": [],
   "source": [
    "mandel6s = expl_converter.convert(\n",
    "    inp=tensors, source=\"tensor\", target=\"mandel6\", quantity=\"stiffness\"\n",
    ")"
   ]
  },
  {
   "cell_type": "code",
   "execution_count": 10,
   "metadata": {
    "execution": {
     "iopub.execute_input": "2022-01-11T13:30:48.760701Z",
     "iopub.status.busy": "2022-01-11T13:30:48.760331Z",
     "iopub.status.idle": "2022-01-11T13:30:48.763427Z",
     "shell.execute_reply": "2022-01-11T13:30:48.763722Z"
    }
   },
   "outputs": [
    {
     "name": "stdout",
     "output_type": "stream",
     "text": [
      "Tensor at position 0, 0 in Mandel6 notation\n",
      "[[1.    1.    1.    1.414 1.414 1.414]\n",
      " [1.    1.    1.    1.414 1.414 1.414]\n",
      " [1.    1.    1.    1.414 1.414 1.414]\n",
      " [1.414 1.414 1.414 2.    2.    2.   ]\n",
      " [1.414 1.414 1.414 2.    2.    2.   ]\n",
      " [1.414 1.414 1.414 2.    2.    2.   ]]\n",
      "\n",
      "Tensor at position 0, 1 in Mandel6 notation\n",
      "[[1.    1.    1.    1.414 1.414 1.414]\n",
      " [1.    1.    1.    1.414 1.414 1.414]\n",
      " [1.    1.    1.    1.414 1.414 1.414]\n",
      " [1.414 1.414 1.414 2.    2.    2.   ]\n",
      " [1.414 1.414 1.414 2.    2.    2.   ]\n",
      " [1.414 1.414 1.414 2.    2.    2.   ]]\n",
      "\n",
      "Tensor at position 1, 0 in Mandel6 notation\n",
      "[[1.    1.    1.    1.414 1.414 1.414]\n",
      " [1.    1.    1.    1.414 1.414 1.414]\n",
      " [1.    1.    1.    1.414 1.414 1.414]\n",
      " [1.414 1.414 1.414 2.    2.    2.   ]\n",
      " [1.414 1.414 1.414 2.    2.    2.   ]\n",
      " [1.414 1.414 1.414 2.    2.    2.   ]]\n",
      "\n",
      "Tensor at position 1, 1 in Mandel6 notation\n",
      "[[1.    1.    1.    1.414 1.414 1.414]\n",
      " [1.    1.    1.    1.414 1.414 1.414]\n",
      " [1.    1.    1.    1.414 1.414 1.414]\n",
      " [1.414 1.414 1.414 2.    2.    2.   ]\n",
      " [1.414 1.414 1.414 2.    2.    2.   ]\n",
      " [1.414 1.414 1.414 2.    2.    2.   ]]\n",
      "\n",
      "Tensor at position 2, 0 in Mandel6 notation\n",
      "[[1.    1.    1.    1.414 1.414 1.414]\n",
      " [1.    1.    1.    1.414 1.414 1.414]\n",
      " [1.    1.    1.    1.414 1.414 1.414]\n",
      " [1.414 1.414 1.414 2.    2.    2.   ]\n",
      " [1.414 1.414 1.414 2.    2.    2.   ]\n",
      " [1.414 1.414 1.414 2.    2.    2.   ]]\n",
      "\n",
      "Tensor at position 2, 1 in Mandel6 notation\n",
      "[[1.    1.    1.    1.414 1.414 1.414]\n",
      " [1.    1.    1.    1.414 1.414 1.414]\n",
      " [1.    1.    1.    1.414 1.414 1.414]\n",
      " [1.414 1.414 1.414 2.    2.    2.   ]\n",
      " [1.414 1.414 1.414 2.    2.    2.   ]\n",
      " [1.414 1.414 1.414 2.    2.    2.   ]]\n",
      "\n",
      "Tensor at position 3, 0 in Mandel6 notation\n",
      "[[1.    1.    1.    1.414 1.414 1.414]\n",
      " [1.    1.    1.    1.414 1.414 1.414]\n",
      " [1.    1.    1.    1.414 1.414 1.414]\n",
      " [1.414 1.414 1.414 2.    2.    2.   ]\n",
      " [1.414 1.414 1.414 2.    2.    2.   ]\n",
      " [1.414 1.414 1.414 2.    2.    2.   ]]\n",
      "\n",
      "Tensor at position 3, 1 in Mandel6 notation\n",
      "[[1.    1.    1.    1.414 1.414 1.414]\n",
      " [1.    1.    1.    1.414 1.414 1.414]\n",
      " [1.    1.    1.    1.414 1.414 1.414]\n",
      " [1.414 1.414 1.414 2.    2.    2.   ]\n",
      " [1.414 1.414 1.414 2.    2.    2.   ]\n",
      " [1.414 1.414 1.414 2.    2.    2.   ]]\n",
      "\n",
      "Tensor at position 4, 0 in Mandel6 notation\n",
      "[[1.    1.    1.    1.414 1.414 1.414]\n",
      " [1.    1.    1.    1.414 1.414 1.414]\n",
      " [1.    1.    1.    1.414 1.414 1.414]\n",
      " [1.414 1.414 1.414 2.    2.    2.   ]\n",
      " [1.414 1.414 1.414 2.    2.    2.   ]\n",
      " [1.414 1.414 1.414 2.    2.    2.   ]]\n",
      "\n",
      "Tensor at position 4, 1 in Mandel6 notation\n",
      "[[1.    1.    1.    1.414 1.414 1.414]\n",
      " [1.    1.    1.    1.414 1.414 1.414]\n",
      " [1.    1.    1.    1.414 1.414 1.414]\n",
      " [1.414 1.414 1.414 2.    2.    2.   ]\n",
      " [1.414 1.414 1.414 2.    2.    2.   ]\n",
      " [1.414 1.414 1.414 2.    2.    2.   ]]\n",
      "\n"
     ]
    }
   ],
   "source": [
    "for i in range(5):\n",
    "    for j in range(2):\n",
    "        print(f\"Tensor at position {i}, {j} in Mandel6 notation\")\n",
    "        print(mandel6s[..., i, j])\n",
    "        print()"
   ]
  }
 ],
 "metadata": {
  "kernelspec": {
   "display_name": "Python 3",
   "language": "python",
   "name": "python3"
  },
  "language_info": {
   "codemirror_mode": {
    "name": "ipython",
    "version": 3
   },
   "file_extension": ".py",
   "mimetype": "text/x-python",
   "name": "python",
   "nbconvert_exporter": "python",
   "pygments_lexer": "ipython3",
   "version": "3.9.7"
  }
 },
 "nbformat": 4,
 "nbformat_minor": 2
}
