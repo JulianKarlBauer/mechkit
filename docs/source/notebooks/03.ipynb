{
 "cells": [
  {
   "cell_type": "markdown",
   "metadata": {},
   "source": [
    "# Notation: Converter Numeric"
   ]
  },
  {
   "cell_type": "code",
   "execution_count": 1,
   "metadata": {
    "execution": {
     "iopub.execute_input": "2022-01-11T13:27:32.611005Z",
     "iopub.status.busy": "2022-01-11T13:27:32.605206Z",
     "iopub.status.idle": "2022-01-11T13:27:33.023977Z",
     "shell.execute_reply": "2022-01-11T13:27:33.023537Z"
    }
   },
   "outputs": [],
   "source": [
    "import mechkit\n",
    "import numpy as np\n",
    "import sympy as sp\n",
    "import itertools"
   ]
  },
  {
   "cell_type": "code",
   "execution_count": 2,
   "metadata": {
    "execution": {
     "iopub.execute_input": "2022-01-11T13:27:33.026608Z",
     "iopub.status.busy": "2022-01-11T13:27:33.026271Z",
     "iopub.status.idle": "2022-01-11T13:27:33.028077Z",
     "shell.execute_reply": "2022-01-11T13:27:33.027729Z"
    }
   },
   "outputs": [],
   "source": [
    "np.set_printoptions(\n",
    "    linewidth=140,\n",
    "    precision=3,\n",
    "    # suppress=False,\n",
    ")\n",
    "converter = mechkit.notation.Converter()"
   ]
  },
  {
   "cell_type": "markdown",
   "metadata": {},
   "source": [
    "### Mandel6: symmetric, Mandel9: Mandel6 + asymmetric parts"
   ]
  },
  {
   "cell_type": "code",
   "execution_count": 3,
   "metadata": {
    "execution": {
     "iopub.execute_input": "2022-01-11T13:27:33.030414Z",
     "iopub.status.busy": "2022-01-11T13:27:33.030086Z",
     "iopub.status.idle": "2022-01-11T13:27:33.031782Z",
     "shell.execute_reply": "2022-01-11T13:27:33.032043Z"
    }
   },
   "outputs": [],
   "source": [
    "basics = mechkit.tensors.Basic()"
   ]
  },
  {
   "cell_type": "markdown",
   "metadata": {},
   "source": [
    "Symmetric identity"
   ]
  },
  {
   "cell_type": "code",
   "execution_count": 4,
   "metadata": {
    "execution": {
     "iopub.execute_input": "2022-01-11T13:27:33.034343Z",
     "iopub.status.busy": "2022-01-11T13:27:33.033887Z",
     "iopub.status.idle": "2022-01-11T13:27:33.060055Z",
     "shell.execute_reply": "2022-01-11T13:27:33.059705Z"
    }
   },
   "outputs": [
    {
     "name": "stdout",
     "output_type": "stream",
     "text": [
      "[[1. 0. 0. 0. 0. 0.]\n",
      " [0. 1. 0. 0. 0. 0.]\n",
      " [0. 0. 1. 0. 0. 0.]\n",
      " [0. 0. 0. 1. 0. 0.]\n",
      " [0. 0. 0. 0. 1. 0.]\n",
      " [0. 0. 0. 0. 0. 1.]]\n",
      "[[ 1.000e+00  0.000e+00  0.000e+00  0.000e+00  0.000e+00  0.000e+00  0.000e+00  0.000e+00  0.000e+00]\n",
      " [ 0.000e+00  1.000e+00  0.000e+00  0.000e+00  0.000e+00  0.000e+00  0.000e+00  0.000e+00  0.000e+00]\n",
      " [ 0.000e+00  0.000e+00  1.000e+00  0.000e+00  0.000e+00  0.000e+00  0.000e+00  0.000e+00  0.000e+00]\n",
      " [ 0.000e+00  0.000e+00  0.000e+00  1.000e+00  0.000e+00  0.000e+00 -4.266e-17  0.000e+00  0.000e+00]\n",
      " [ 0.000e+00  0.000e+00  0.000e+00  0.000e+00  1.000e+00  0.000e+00  0.000e+00  4.266e-17  0.000e+00]\n",
      " [ 0.000e+00  0.000e+00  0.000e+00  0.000e+00  0.000e+00  1.000e+00  0.000e+00  0.000e+00 -4.266e-17]\n",
      " [ 0.000e+00  0.000e+00  0.000e+00  0.000e+00  0.000e+00  0.000e+00  0.000e+00  0.000e+00  0.000e+00]\n",
      " [ 0.000e+00  0.000e+00  0.000e+00  0.000e+00  0.000e+00  0.000e+00  0.000e+00  0.000e+00  0.000e+00]\n",
      " [ 0.000e+00  0.000e+00  0.000e+00  0.000e+00  0.000e+00  0.000e+00  0.000e+00  0.000e+00  0.000e+00]]\n"
     ]
    }
   ],
   "source": [
    "print(converter.to_mandel6(basics.I4s))\n",
    "print(converter.to_mandel9(basics.I4s))"
   ]
  },
  {
   "cell_type": "markdown",
   "metadata": {},
   "source": [
    "Asymmetric identity"
   ]
  },
  {
   "cell_type": "code",
   "execution_count": 5,
   "metadata": {
    "execution": {
     "iopub.execute_input": "2022-01-11T13:27:33.063924Z",
     "iopub.status.busy": "2022-01-11T13:27:33.063543Z",
     "iopub.status.idle": "2022-01-11T13:27:33.065795Z",
     "shell.execute_reply": "2022-01-11T13:27:33.065410Z"
    }
   },
   "outputs": [
    {
     "name": "stdout",
     "output_type": "stream",
     "text": [
      "[[0. 0. 0. 0. 0. 0.]\n",
      " [0. 0. 0. 0. 0. 0.]\n",
      " [0. 0. 0. 0. 0. 0.]\n",
      " [0. 0. 0. 0. 0. 0.]\n",
      " [0. 0. 0. 0. 0. 0.]\n",
      " [0. 0. 0. 0. 0. 0.]]\n",
      "[[ 0.000e+00  0.000e+00  0.000e+00  0.000e+00  0.000e+00  0.000e+00  0.000e+00  0.000e+00  0.000e+00]\n",
      " [ 0.000e+00  0.000e+00  0.000e+00  0.000e+00  0.000e+00  0.000e+00  0.000e+00  0.000e+00  0.000e+00]\n",
      " [ 0.000e+00  0.000e+00  0.000e+00  0.000e+00  0.000e+00  0.000e+00  0.000e+00  0.000e+00  0.000e+00]\n",
      " [ 0.000e+00  0.000e+00  0.000e+00  0.000e+00  0.000e+00  0.000e+00  0.000e+00  0.000e+00  0.000e+00]\n",
      " [ 0.000e+00  0.000e+00  0.000e+00  0.000e+00  0.000e+00  0.000e+00  0.000e+00  0.000e+00  0.000e+00]\n",
      " [ 0.000e+00  0.000e+00  0.000e+00  0.000e+00  0.000e+00  0.000e+00  0.000e+00  0.000e+00  0.000e+00]\n",
      " [ 0.000e+00  0.000e+00  0.000e+00 -4.266e-17  0.000e+00  0.000e+00  1.000e+00  0.000e+00  0.000e+00]\n",
      " [ 0.000e+00  0.000e+00  0.000e+00  0.000e+00  4.266e-17  0.000e+00  0.000e+00  1.000e+00  0.000e+00]\n",
      " [ 0.000e+00  0.000e+00  0.000e+00  0.000e+00  0.000e+00 -4.266e-17  0.000e+00  0.000e+00  1.000e+00]]\n"
     ]
    }
   ],
   "source": [
    "print(converter.to_mandel6(basics.I4a))\n",
    "print(converter.to_mandel9(basics.I4a))"
   ]
  },
  {
   "cell_type": "markdown",
   "metadata": {},
   "source": [
    "### Convenient autodetection of the notation: Specify only target"
   ]
  },
  {
   "cell_type": "code",
   "execution_count": 6,
   "metadata": {
    "execution": {
     "iopub.execute_input": "2022-01-11T13:27:33.070480Z",
     "iopub.status.busy": "2022-01-11T13:27:33.070099Z",
     "iopub.status.idle": "2022-01-11T13:27:33.072480Z",
     "shell.execute_reply": "2022-01-11T13:27:33.072055Z"
    }
   },
   "outputs": [
    {
     "name": "stdout",
     "output_type": "stream",
     "text": [
      "[[[[1. 1. 1.]\n",
      "   [1. 1. 1.]\n",
      "   [1. 1. 1.]]\n",
      "\n",
      "  [[1. 1. 1.]\n",
      "   [1. 1. 1.]\n",
      "   [1. 1. 1.]]\n",
      "\n",
      "  [[1. 1. 1.]\n",
      "   [1. 1. 1.]\n",
      "   [1. 1. 1.]]]\n",
      "\n",
      "\n",
      " [[[1. 1. 1.]\n",
      "   [1. 1. 1.]\n",
      "   [1. 1. 1.]]\n",
      "\n",
      "  [[1. 1. 1.]\n",
      "   [1. 1. 1.]\n",
      "   [1. 1. 1.]]\n",
      "\n",
      "  [[1. 1. 1.]\n",
      "   [1. 1. 1.]\n",
      "   [1. 1. 1.]]]\n",
      "\n",
      "\n",
      " [[[1. 1. 1.]\n",
      "   [1. 1. 1.]\n",
      "   [1. 1. 1.]]\n",
      "\n",
      "  [[1. 1. 1.]\n",
      "   [1. 1. 1.]\n",
      "   [1. 1. 1.]]\n",
      "\n",
      "  [[1. 1. 1.]\n",
      "   [1. 1. 1.]\n",
      "   [1. 1. 1.]]]]\n",
      "[[1.    1.    1.    1.414 1.414 1.414]\n",
      " [1.    1.    1.    1.414 1.414 1.414]\n",
      " [1.    1.    1.    1.414 1.414 1.414]\n",
      " [1.414 1.414 1.414 2.    2.    2.   ]\n",
      " [1.414 1.414 1.414 2.    2.    2.   ]\n",
      " [1.414 1.414 1.414 2.    2.    2.   ]]\n",
      "[[1.    1.    1.    1.414 1.414 1.414 0.    0.    0.   ]\n",
      " [1.    1.    1.    1.414 1.414 1.414 0.    0.    0.   ]\n",
      " [1.    1.    1.    1.414 1.414 1.414 0.    0.    0.   ]\n",
      " [1.414 1.414 1.414 2.    2.    2.    0.    0.    0.   ]\n",
      " [1.414 1.414 1.414 2.    2.    2.    0.    0.    0.   ]\n",
      " [1.414 1.414 1.414 2.    2.    2.    0.    0.    0.   ]\n",
      " [0.    0.    0.    0.    0.    0.    0.    0.    0.   ]\n",
      " [0.    0.    0.    0.    0.    0.    0.    0.    0.   ]\n",
      " [0.    0.    0.    0.    0.    0.    0.    0.    0.   ]]\n"
     ]
    }
   ],
   "source": [
    "tensor = np.ones((3, 3, 3, 3))\n",
    "mandel6 = converter.to_mandel6(tensor)\n",
    "# Pass through\n",
    "print(converter.to_tensor(mandel6))\n",
    "print(converter.to_mandel6(mandel6))\n",
    "print(converter.to_mandel9(mandel6))"
   ]
  },
  {
   "cell_type": "markdown",
   "metadata": {},
   "source": [
    "### Vectorized explicit converter"
   ]
  },
  {
   "cell_type": "code",
   "execution_count": 7,
   "metadata": {
    "execution": {
     "iopub.execute_input": "2022-01-11T13:27:33.075232Z",
     "iopub.status.busy": "2022-01-11T13:27:33.074803Z",
     "iopub.status.idle": "2022-01-11T13:27:33.242505Z",
     "shell.execute_reply": "2022-01-11T13:27:33.242830Z"
    }
   },
   "outputs": [],
   "source": [
    "expl_converter = mechkit.notation.ExplicitConverter()"
   ]
  },
  {
   "cell_type": "code",
   "execution_count": 8,
   "metadata": {
    "execution": {
     "iopub.execute_input": "2022-01-11T13:27:33.245670Z",
     "iopub.status.busy": "2022-01-11T13:27:33.245264Z",
     "iopub.status.idle": "2022-01-11T13:27:33.247331Z",
     "shell.execute_reply": "2022-01-11T13:27:33.246923Z"
    }
   },
   "outputs": [],
   "source": [
    "tensors = np.random.rand(\n",
    "    3, 3, 3, 3, 5, 2\n",
    ")  # We have 5 times 2 tensors of fourth order"
   ]
  },
  {
   "cell_type": "code",
   "execution_count": 9,
   "metadata": {
    "execution": {
     "iopub.execute_input": "2022-01-11T13:27:33.250043Z",
     "iopub.status.busy": "2022-01-11T13:27:33.249649Z",
     "iopub.status.idle": "2022-01-11T13:27:33.251483Z",
     "shell.execute_reply": "2022-01-11T13:27:33.251786Z"
    }
   },
   "outputs": [],
   "source": [
    "mandel6s = expl_converter.convert(\n",
    "    inp=tensors, source=\"tensor\", target=\"mandel6\", quantity=\"stiffness\"\n",
    ")"
   ]
  },
  {
   "cell_type": "code",
   "execution_count": 10,
   "metadata": {
    "execution": {
     "iopub.execute_input": "2022-01-11T13:27:33.257585Z",
     "iopub.status.busy": "2022-01-11T13:27:33.257197Z",
     "iopub.status.idle": "2022-01-11T13:27:33.260337Z",
     "shell.execute_reply": "2022-01-11T13:27:33.259962Z"
    }
   },
   "outputs": [
    {
     "name": "stdout",
     "output_type": "stream",
     "text": [
      "Tensor at position 0, 0 in Mandel6 notation\n",
      "[[0.273 0.463 0.028 0.806 0.281 0.703]\n",
      " [0.66  0.699 0.157 0.159 1.084 0.941]\n",
      " [0.853 0.113 0.637 0.492 0.158 0.2  ]\n",
      " [0.981 0.612 0.692 1.112 1.395 1.134]\n",
      " [0.577 0.817 0.026 0.652 0.652 0.98 ]\n",
      " [1.382 0.946 0.733 1.015 0.886 0.416]]\n",
      "Tensor at position 0, 1 in Mandel6 notation\n",
      "[[0.353 0.572 0.928 0.59  0.577 0.952]\n",
      " [0.186 0.378 0.715 0.612 0.72  1.053]\n",
      " [0.816 0.59  0.723 0.194 1.365 0.192]\n",
      " [0.894 0.574 0.539 0.908 0.916 0.555]\n",
      " [0.706 0.891 0.25  0.853 1.308 0.629]\n",
      " [0.788 0.715 0.437 1.33  0.622 0.86 ]]\n",
      "Tensor at position 1, 0 in Mandel6 notation\n",
      "[[0.84  0.047 0.637 0.893 0.439 0.817]\n",
      " [0.033 0.386 0.317 0.762 0.691 0.211]\n",
      " [0.61  0.243 0.698 1.251 0.63  0.484]\n",
      " [0.761 1.062 0.841 0.436 1.451 0.456]\n",
      " [1.082 0.798 0.673 1.262 1.164 0.97 ]\n",
      " [0.964 0.424 0.741 0.946 0.723 1.248]]\n",
      "Tensor at position 1, 1 in Mandel6 notation\n",
      "[[0.067 0.814 0.333 0.522 0.715 1.187]\n",
      " [0.246 0.861 0.509 1.277 0.205 0.813]\n",
      " [0.739 0.526 0.644 0.309 0.999 0.254]\n",
      " [0.845 0.862 0.594 1.417 0.929 0.655]\n",
      " [0.521 1.231 1.096 0.646 1.142 0.893]\n",
      " [0.842 0.598 0.627 1.139 1.029 0.948]]\n",
      "Tensor at position 2, 0 in Mandel6 notation\n",
      "[[0.97  0.526 0.074 0.728 1.077 1.029]\n",
      " [0.611 0.721 0.22  0.955 0.255 1.376]\n",
      " [0.584 0.818 0.326 0.364 0.641 0.538]\n",
      " [1.198 0.415 0.477 0.969 0.505 1.223]\n",
      " [1.307 0.911 0.622 1.208 1.382 0.439]\n",
      " [0.399 0.405 0.817 1.295 0.779 0.567]]\n",
      "Tensor at position 2, 1 in Mandel6 notation\n",
      "[[0.967 0.217 0.384 0.651 0.266 0.136]\n",
      " [0.838 0.929 0.916 1.287 0.323 1.093]\n",
      " [0.307 0.014 0.289 0.357 0.887 0.366]\n",
      " [0.972 0.366 0.607 1.112 1.099 1.147]\n",
      " [0.688 0.297 0.328 0.566 1.199 0.639]\n",
      " [0.9   0.31  0.297 1.068 1.166 0.68 ]]\n",
      "Tensor at position 3, 0 in Mandel6 notation\n",
      "[[5.298e-01 7.179e-01 3.605e-01 8.817e-01 5.009e-01 3.021e-01]\n",
      " [5.835e-01 2.068e-01 3.007e-01 1.201e+00 7.110e-01 4.163e-01]\n",
      " [6.113e-04 7.611e-01 3.217e-01 8.963e-01 4.474e-01 2.460e-01]\n",
      " [4.758e-01 5.006e-01 7.741e-01 5.506e-01 1.615e+00 1.251e+00]\n",
      " [5.815e-01 7.184e-01 7.306e-01 2.878e-01 8.790e-01 8.582e-01]\n",
      " [8.457e-01 6.475e-01 8.405e-01 1.135e+00 1.514e+00 1.183e+00]]\n",
      "Tensor at position 3, 1 in Mandel6 notation\n",
      "[[0.146 0.247 0.947 0.957 0.458 0.55 ]\n",
      " [0.188 0.334 0.1   0.921 0.571 0.975]\n",
      " [0.556 0.86  0.645 0.862 0.975 0.863]\n",
      " [1.019 0.465 0.118 0.845 1.099 1.056]\n",
      " [1.008 0.816 1.031 0.888 1.199 1.268]\n",
      " [0.716 0.422 0.761 1.15  1.211 1.227]]\n",
      "Tensor at position 4, 0 in Mandel6 notation\n",
      "[[0.052 0.726 0.52  0.82  0.836 1.174]\n",
      " [0.977 0.07  0.457 0.762 0.401 1.125]\n",
      " [0.652 0.632 0.718 0.525 0.656 1.073]\n",
      " [1.194 1.03  0.618 1.226 0.467 0.977]\n",
      " [0.641 0.218 0.483 0.846 0.714 0.837]\n",
      " [0.79  0.233 0.63  0.396 0.911 1.183]]\n",
      "Tensor at position 4, 1 in Mandel6 notation\n",
      "[[0.753 0.021 0.115 0.285 0.533 0.737]\n",
      " [0.845 0.159 0.648 0.829 0.738 0.564]\n",
      " [0.997 0.57  0.192 0.67  0.662 0.821]\n",
      " [0.224 1.073 0.647 1.182 0.988 1.358]\n",
      " [1.012 0.602 0.843 0.9   1.196 0.801]\n",
      " [0.686 1.067 0.742 1.217 0.764 1.191]]\n"
     ]
    }
   ],
   "source": [
    "for i in range(5):\n",
    "    for j in range(2):\n",
    "        print(f\"Tensor at position {i}, {j} in Mandel6 notation\")\n",
    "        print(mandel6s[..., i, j])"
   ]
  }
 ],
 "metadata": {
  "kernelspec": {
   "display_name": "Python 3",
   "language": "python",
   "name": "python3"
  },
  "language_info": {
   "codemirror_mode": {
    "name": "ipython",
    "version": 3
   },
   "file_extension": ".py",
   "mimetype": "text/x-python",
   "name": "python",
   "nbconvert_exporter": "python",
   "pygments_lexer": "ipython3",
   "version": "3.9.7"
  }
 },
 "nbformat": 4,
 "nbformat_minor": 2
}
