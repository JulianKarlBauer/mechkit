{
 "cells": [
  {
   "cell_type": "markdown",
   "id": "8f828552",
   "metadata": {},
   "source": [
    "# Notation: Converter Symbolic"
   ]
  },
  {
   "cell_type": "code",
   "execution_count": 1,
   "id": "ac44739c",
   "metadata": {
    "execution": {
     "iopub.execute_input": "2022-02-03T13:19:53.117354Z",
     "iopub.status.busy": "2022-02-03T13:19:53.115549Z",
     "iopub.status.idle": "2022-02-03T13:19:53.488283Z",
     "shell.execute_reply": "2022-02-03T13:19:53.487939Z"
    }
   },
   "outputs": [],
   "source": [
    "import mechkit\n",
    "import numpy as np\n",
    "import sympy as sp\n",
    "import itertools"
   ]
  },
  {
   "cell_type": "code",
   "execution_count": 2,
   "id": "7c7589da",
   "metadata": {
    "execution": {
     "iopub.execute_input": "2022-02-03T13:19:53.490781Z",
     "iopub.status.busy": "2022-02-03T13:19:53.490469Z",
     "iopub.status.idle": "2022-02-03T13:19:53.492293Z",
     "shell.execute_reply": "2022-02-03T13:19:53.491975Z"
    }
   },
   "outputs": [],
   "source": [
    "np.set_printoptions(\n",
    "    linewidth=140,\n",
    "    precision=3,\n",
    "    # suppress=False,\n",
    ")"
   ]
  },
  {
   "cell_type": "markdown",
   "id": "1ec3fc79",
   "metadata": {},
   "source": [
    "### Symbolic with numbers"
   ]
  },
  {
   "cell_type": "code",
   "execution_count": 3,
   "id": "31682d34",
   "metadata": {
    "execution": {
     "iopub.execute_input": "2022-02-03T13:19:53.496081Z",
     "iopub.status.busy": "2022-02-03T13:19:53.495689Z",
     "iopub.status.idle": "2022-02-03T13:19:53.497950Z",
     "shell.execute_reply": "2022-02-03T13:19:53.497596Z"
    }
   },
   "outputs": [
    {
     "name": "stdout",
     "output_type": "stream",
     "text": [
      "[[[[1 1 1]\n",
      "   [1 1 1]\n",
      "   [1 1 1]]\n",
      "\n",
      "  [[1 1 1]\n",
      "   [1 1 1]\n",
      "   [1 1 1]]\n",
      "\n",
      "  [[1 1 1]\n",
      "   [1 1 1]\n",
      "   [1 1 1]]]\n",
      "\n",
      "\n",
      " [[[1 1 1]\n",
      "   [1 1 1]\n",
      "   [1 1 1]]\n",
      "\n",
      "  [[1 1 1]\n",
      "   [1 1 1]\n",
      "   [1 1 1]]\n",
      "\n",
      "  [[1 1 1]\n",
      "   [1 1 1]\n",
      "   [1 1 1]]]\n",
      "\n",
      "\n",
      " [[[1 1 1]\n",
      "   [1 1 1]\n",
      "   [1 1 1]]\n",
      "\n",
      "  [[1 1 1]\n",
      "   [1 1 1]\n",
      "   [1 1 1]]\n",
      "\n",
      "  [[1 1 1]\n",
      "   [1 1 1]\n",
      "   [1 1 1]]]]\n"
     ]
    }
   ],
   "source": [
    "converter = mechkit.notation.ConverterSymbolic()\n",
    "ones_tensor = np.ones((3, 3, 3, 3), dtype=sp.Symbol)\n",
    "print(ones_tensor)"
   ]
  },
  {
   "cell_type": "code",
   "execution_count": 4,
   "id": "848728d7",
   "metadata": {
    "execution": {
     "iopub.execute_input": "2022-02-03T13:19:53.501189Z",
     "iopub.status.busy": "2022-02-03T13:19:53.500879Z",
     "iopub.status.idle": "2022-02-03T13:19:53.615739Z",
     "shell.execute_reply": "2022-02-03T13:19:53.615394Z"
    }
   },
   "outputs": [
    {
     "name": "stdout",
     "output_type": "stream",
     "text": [
      "[[1 1 1 sqrt(2) sqrt(2) sqrt(2)]\n",
      " [1 1 1 sqrt(2) sqrt(2) sqrt(2)]\n",
      " [1 1 1 sqrt(2) sqrt(2) sqrt(2)]\n",
      " [sqrt(2) sqrt(2) sqrt(2) 2 2 2]\n",
      " [sqrt(2) sqrt(2) sqrt(2) 2 2 2]\n",
      " [sqrt(2) sqrt(2) sqrt(2) 2 2 2]]\n"
     ]
    }
   ],
   "source": [
    "ones_mandel6 = converter.to_mandel6(ones_tensor)\n",
    "print(ones_mandel6)"
   ]
  },
  {
   "cell_type": "code",
   "execution_count": 5,
   "id": "cf9bc0e3",
   "metadata": {
    "execution": {
     "iopub.execute_input": "2022-02-03T13:19:53.621607Z",
     "iopub.status.busy": "2022-02-03T13:19:53.621249Z",
     "iopub.status.idle": "2022-02-03T13:19:53.623058Z",
     "shell.execute_reply": "2022-02-03T13:19:53.623319Z"
    }
   },
   "outputs": [
    {
     "name": "stdout",
     "output_type": "stream",
     "text": [
      "[[1 1 1 sqrt(2) sqrt(2) sqrt(2) 0 0 0]\n",
      " [1 1 1 sqrt(2) sqrt(2) sqrt(2) 0 0 0]\n",
      " [1 1 1 sqrt(2) sqrt(2) sqrt(2) 0 0 0]\n",
      " [sqrt(2) sqrt(2) sqrt(2) 2 2 2 0 0 0]\n",
      " [sqrt(2) sqrt(2) sqrt(2) 2 2 2 0 0 0]\n",
      " [sqrt(2) sqrt(2) sqrt(2) 2 2 2 0 0 0]\n",
      " [0 0 0 0 0 0 0 0 0]\n",
      " [0 0 0 0 0 0 0 0 0]\n",
      " [0 0 0 0 0 0 0 0 0]]\n"
     ]
    }
   ],
   "source": [
    "ones_mandel9 = converter.to_mandel9(ones_tensor)\n",
    "print(ones_mandel9)"
   ]
  },
  {
   "cell_type": "markdown",
   "id": "b39b6132",
   "metadata": {
    "lines_to_next_cell": 2
   },
   "source": [
    "### Symbolic with letters"
   ]
  },
  {
   "cell_type": "code",
   "execution_count": 6,
   "id": "dceb1787",
   "metadata": {
    "execution": {
     "iopub.execute_input": "2022-02-03T13:19:53.626766Z",
     "iopub.status.busy": "2022-02-03T13:19:53.626447Z",
     "iopub.status.idle": "2022-02-03T13:19:53.628237Z",
     "shell.execute_reply": "2022-02-03T13:19:53.627921Z"
    }
   },
   "outputs": [],
   "source": [
    "def tensor(\n",
    "    order=2, symbol=\"A\", dim=3, latex_index=False, kwargs_symbol={}, indice_offset=0\n",
    "):\n",
    "    A = np.zeros((dim,) * order, dtype=sp.Symbol)\n",
    "    for x in itertools.product(range(dim), repeat=order):\n",
    "        index = \"\".join(map(str, map(lambda x: x + indice_offset, x)))\n",
    "        if latex_index:\n",
    "            index = \"_{\" + index + \"}\"\n",
    "        A[x] = sp.Symbol(symbol + index, **kwargs_symbol)\n",
    "    return A"
   ]
  },
  {
   "cell_type": "code",
   "execution_count": 7,
   "id": "2934659b",
   "metadata": {
    "execution": {
     "iopub.execute_input": "2022-02-03T13:19:53.631404Z",
     "iopub.status.busy": "2022-02-03T13:19:53.631091Z",
     "iopub.status.idle": "2022-02-03T13:19:53.633112Z",
     "shell.execute_reply": "2022-02-03T13:19:53.632779Z"
    }
   },
   "outputs": [],
   "source": [
    "def make_it_hooke_symmetric(A, dim=3):\n",
    "    for i in range(dim):\n",
    "        for j in range(dim):\n",
    "            for k in range(dim):\n",
    "                for m in range(dim):\n",
    "                    A[i, j, m, k] = A[i, j, k, m]\n",
    "                    A[j, i, m, k] = A[i, j, k, m]\n",
    "                    A[k, m, i, j] = A[i, j, k, m]\n",
    "    return A"
   ]
  },
  {
   "cell_type": "code",
   "execution_count": 8,
   "id": "03896aef",
   "metadata": {
    "execution": {
     "iopub.execute_input": "2022-02-03T13:19:53.635898Z",
     "iopub.status.busy": "2022-02-03T13:19:53.635583Z",
     "iopub.status.idle": "2022-02-03T13:19:53.637415Z",
     "shell.execute_reply": "2022-02-03T13:19:53.637069Z"
    }
   },
   "outputs": [],
   "source": [
    "def make_it_left_symmetric(A, dim=3):\n",
    "    for i in range(dim):\n",
    "        for j in range(dim):\n",
    "            for k in range(dim):\n",
    "                for m in range(dim):\n",
    "                    A[j, i, k, m] = A[i, j, k, m]\n",
    "    return A"
   ]
  },
  {
   "cell_type": "code",
   "execution_count": 9,
   "id": "91182c04",
   "metadata": {
    "execution": {
     "iopub.execute_input": "2022-02-03T13:19:53.640128Z",
     "iopub.status.busy": "2022-02-03T13:19:53.639794Z",
     "iopub.status.idle": "2022-02-03T13:19:53.641725Z",
     "shell.execute_reply": "2022-02-03T13:19:53.641384Z"
    }
   },
   "outputs": [],
   "source": [
    "def make_it_right_symmetric(A, dim=3):\n",
    "    for i in range(dim):\n",
    "        for j in range(dim):\n",
    "            for k in range(dim):\n",
    "                for m in range(dim):\n",
    "                    A[i, j, m, k] = A[i, j, k, m]\n",
    "    return A"
   ]
  },
  {
   "cell_type": "code",
   "execution_count": 10,
   "id": "f90d5fc9",
   "metadata": {
    "execution": {
     "iopub.execute_input": "2022-02-03T13:19:53.644100Z",
     "iopub.status.busy": "2022-02-03T13:19:53.643766Z",
     "iopub.status.idle": "2022-02-03T13:19:53.645248Z",
     "shell.execute_reply": "2022-02-03T13:19:53.645527Z"
    }
   },
   "outputs": [],
   "source": [
    "def make_it_minor_symmetric(A, dim=3):\n",
    "    tmp = make_it_left_symmetric(A)\n",
    "    tmp = make_it_right_symmetric(A)\n",
    "    return tmp"
   ]
  },
  {
   "cell_type": "code",
   "execution_count": 11,
   "id": "4a020227",
   "metadata": {
    "execution": {
     "iopub.execute_input": "2022-02-03T13:19:53.649376Z",
     "iopub.status.busy": "2022-02-03T13:19:53.648975Z",
     "iopub.status.idle": "2022-02-03T13:19:53.651076Z",
     "shell.execute_reply": "2022-02-03T13:19:53.650733Z"
    }
   },
   "outputs": [
    {
     "name": "stdout",
     "output_type": "stream",
     "text": [
      "[[[[A1111 A1112 A1113]\n",
      "   [A1112 A1122 A1123]\n",
      "   [A1113 A1123 A1133]]\n",
      "\n",
      "  [[A1211 A1212 A1213]\n",
      "   [A1212 A1222 A1223]\n",
      "   [A1213 A1223 A1233]]\n",
      "\n",
      "  [[A1311 A1312 A1313]\n",
      "   [A1312 A1322 A1323]\n",
      "   [A1313 A1323 A1333]]]\n",
      "\n",
      "\n",
      " [[[A1211 A1212 A1213]\n",
      "   [A1212 A1222 A1223]\n",
      "   [A1213 A1223 A1233]]\n",
      "\n",
      "  [[A2211 A2212 A2213]\n",
      "   [A2212 A2222 A2223]\n",
      "   [A2213 A2223 A2233]]\n",
      "\n",
      "  [[A2311 A2312 A2313]\n",
      "   [A2312 A2322 A2323]\n",
      "   [A2313 A2323 A2333]]]\n",
      "\n",
      "\n",
      " [[[A1311 A1312 A1313]\n",
      "   [A1312 A1322 A1323]\n",
      "   [A1313 A1323 A1333]]\n",
      "\n",
      "  [[A2311 A2312 A2313]\n",
      "   [A2312 A2322 A2323]\n",
      "   [A2313 A2323 A2333]]\n",
      "\n",
      "  [[A3311 A3312 A3313]\n",
      "   [A3312 A3322 A3323]\n",
      "   [A3313 A3323 A3333]]]]\n"
     ]
    }
   ],
   "source": [
    "tensor = make_it_minor_symmetric(tensor(order=4, indice_offset=1))\n",
    "print(tensor)"
   ]
  },
  {
   "cell_type": "code",
   "execution_count": 12,
   "id": "4ed3119e",
   "metadata": {
    "execution": {
     "iopub.execute_input": "2022-02-03T13:19:53.669708Z",
     "iopub.status.busy": "2022-02-03T13:19:53.669354Z",
     "iopub.status.idle": "2022-02-03T13:19:53.671307Z",
     "shell.execute_reply": "2022-02-03T13:19:53.670949Z"
    }
   },
   "outputs": [
    {
     "name": "stdout",
     "output_type": "stream",
     "text": [
      "[[A1111 A1122 A1133 sqrt(2)*A1123 sqrt(2)*A1113 sqrt(2)*A1112]\n",
      " [A2211 A2222 A2233 sqrt(2)*A2223 sqrt(2)*A2213 sqrt(2)*A2212]\n",
      " [A3311 A3322 A3333 sqrt(2)*A3323 sqrt(2)*A3313 sqrt(2)*A3312]\n",
      " [sqrt(2)*A2311 sqrt(2)*A2322 sqrt(2)*A2333 2*A2323 2*A2313 2*A2312]\n",
      " [sqrt(2)*A1311 sqrt(2)*A1322 sqrt(2)*A1333 2*A1323 2*A1313 2*A1312]\n",
      " [sqrt(2)*A1211 sqrt(2)*A1222 sqrt(2)*A1233 2*A1223 2*A1213 2*A1212]]\n"
     ]
    }
   ],
   "source": [
    "tensor_mandel6 = converter.to_mandel6(tensor)\n",
    "print(tensor_mandel6)"
   ]
  },
  {
   "cell_type": "code",
   "execution_count": 13,
   "id": "d279e01b",
   "metadata": {
    "execution": {
     "iopub.execute_input": "2022-02-03T13:19:53.682381Z",
     "iopub.status.busy": "2022-02-03T13:19:53.682001Z",
     "iopub.status.idle": "2022-02-03T13:19:53.684086Z",
     "shell.execute_reply": "2022-02-03T13:19:53.683762Z"
    }
   },
   "outputs": [
    {
     "name": "stdout",
     "output_type": "stream",
     "text": [
      "[[A1111 A1122 A1133 sqrt(2)*A1123 sqrt(2)*A1113 sqrt(2)*A1112 0 0 0]\n",
      " [A2211 A2222 A2233 sqrt(2)*A2223 sqrt(2)*A2213 sqrt(2)*A2212 0 0 0]\n",
      " [A3311 A3322 A3333 sqrt(2)*A3323 sqrt(2)*A3313 sqrt(2)*A3312 0 0 0]\n",
      " [sqrt(2)*A2311 sqrt(2)*A2322 sqrt(2)*A2333 2*A2323 2*A2313 2*A2312 0 0 0]\n",
      " [sqrt(2)*A1311 sqrt(2)*A1322 sqrt(2)*A1333 2*A1323 2*A1313 2*A1312 0 0 0]\n",
      " [sqrt(2)*A1211 sqrt(2)*A1222 sqrt(2)*A1233 2*A1223 2*A1213 2*A1212 0 0 0]\n",
      " [0 0 0 0 0 0 0 0 0]\n",
      " [0 0 0 0 0 0 0 0 0]\n",
      " [0 0 0 0 0 0 0 0 0]]\n"
     ]
    }
   ],
   "source": [
    "tensor_mandel9 = converter.to_mandel9(tensor)\n",
    "print(tensor_mandel9)"
   ]
  }
 ],
 "metadata": {
  "jupytext": {
   "cell_metadata_filter": "-all",
   "main_language": "python",
   "notebook_metadata_filter": "-all"
  },
  "language_info": {
   "codemirror_mode": {
    "name": "ipython",
    "version": 3
   },
   "file_extension": ".py",
   "mimetype": "text/x-python",
   "name": "python",
   "nbconvert_exporter": "python",
   "pygments_lexer": "ipython3",
   "version": "3.9.7"
  }
 },
 "nbformat": 4,
 "nbformat_minor": 5
}
