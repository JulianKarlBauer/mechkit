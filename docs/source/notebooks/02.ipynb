{
 "cells": [
  {
   "cell_type": "markdown",
   "metadata": {},
   "source": [
    "# Notation: Converter Symbolic"
   ]
  },
  {
   "cell_type": "code",
   "execution_count": 1,
   "metadata": {
    "execution": {
     "iopub.execute_input": "2022-01-11T13:22:24.142424Z",
     "iopub.status.busy": "2022-01-11T13:22:24.140483Z",
     "iopub.status.idle": "2022-01-11T13:22:24.555070Z",
     "shell.execute_reply": "2022-01-11T13:22:24.554597Z"
    }
   },
   "outputs": [],
   "source": [
    "import mechkit\n",
    "import numpy as np\n",
    "import sympy as sp\n",
    "import itertools"
   ]
  },
  {
   "cell_type": "code",
   "execution_count": 2,
   "metadata": {
    "execution": {
     "iopub.execute_input": "2022-01-11T13:22:24.557538Z",
     "iopub.status.busy": "2022-01-11T13:22:24.557226Z",
     "iopub.status.idle": "2022-01-11T13:22:24.559079Z",
     "shell.execute_reply": "2022-01-11T13:22:24.558722Z"
    }
   },
   "outputs": [],
   "source": [
    "np.set_printoptions(\n",
    "    linewidth=140,\n",
    "    precision=3,\n",
    "    # suppress=False,\n",
    ")"
   ]
  },
  {
   "cell_type": "markdown",
   "metadata": {},
   "source": [
    "### Symbolic with numbers"
   ]
  },
  {
   "cell_type": "code",
   "execution_count": 3,
   "metadata": {
    "execution": {
     "iopub.execute_input": "2022-01-11T13:22:24.562707Z",
     "iopub.status.busy": "2022-01-11T13:22:24.562351Z",
     "iopub.status.idle": "2022-01-11T13:22:24.564430Z",
     "shell.execute_reply": "2022-01-11T13:22:24.564690Z"
    }
   },
   "outputs": [
    {
     "name": "stdout",
     "output_type": "stream",
     "text": [
      "[[[[1 1 1]\n",
      "   [1 1 1]\n",
      "   [1 1 1]]\n",
      "\n",
      "  [[1 1 1]\n",
      "   [1 1 1]\n",
      "   [1 1 1]]\n",
      "\n",
      "  [[1 1 1]\n",
      "   [1 1 1]\n",
      "   [1 1 1]]]\n",
      "\n",
      "\n",
      " [[[1 1 1]\n",
      "   [1 1 1]\n",
      "   [1 1 1]]\n",
      "\n",
      "  [[1 1 1]\n",
      "   [1 1 1]\n",
      "   [1 1 1]]\n",
      "\n",
      "  [[1 1 1]\n",
      "   [1 1 1]\n",
      "   [1 1 1]]]\n",
      "\n",
      "\n",
      " [[[1 1 1]\n",
      "   [1 1 1]\n",
      "   [1 1 1]]\n",
      "\n",
      "  [[1 1 1]\n",
      "   [1 1 1]\n",
      "   [1 1 1]]\n",
      "\n",
      "  [[1 1 1]\n",
      "   [1 1 1]\n",
      "   [1 1 1]]]]\n"
     ]
    }
   ],
   "source": [
    "converter = mechkit.notation.ConverterSymbolic()\n",
    "ones_tensor = np.ones((3, 3, 3, 3), dtype=sp.Symbol)\n",
    "print(ones_tensor)"
   ]
  },
  {
   "cell_type": "code",
   "execution_count": 4,
   "metadata": {
    "execution": {
     "iopub.execute_input": "2022-01-11T13:22:24.567077Z",
     "iopub.status.busy": "2022-01-11T13:22:24.566702Z",
     "iopub.status.idle": "2022-01-11T13:22:24.596035Z",
     "shell.execute_reply": "2022-01-11T13:22:24.596335Z"
    }
   },
   "outputs": [
    {
     "name": "stdout",
     "output_type": "stream",
     "text": [
      "[[1 1 1 sqrt(2) sqrt(2) sqrt(2)]\n",
      " [1 1 1 sqrt(2) sqrt(2) sqrt(2)]\n",
      " [1 1 1 sqrt(2) sqrt(2) sqrt(2)]\n",
      " [sqrt(2) sqrt(2) sqrt(2) 2 2 2]\n",
      " [sqrt(2) sqrt(2) sqrt(2) 2 2 2]\n",
      " [sqrt(2) sqrt(2) sqrt(2) 2 2 2]]\n"
     ]
    }
   ],
   "source": [
    "ones_mandel6 = converter.to_mandel6(ones_tensor)\n",
    "print(ones_mandel6)"
   ]
  },
  {
   "cell_type": "code",
   "execution_count": 5,
   "metadata": {
    "execution": {
     "iopub.execute_input": "2022-01-11T13:22:24.602097Z",
     "iopub.status.busy": "2022-01-11T13:22:24.601685Z",
     "iopub.status.idle": "2022-01-11T13:22:24.603423Z",
     "shell.execute_reply": "2022-01-11T13:22:24.603718Z"
    }
   },
   "outputs": [
    {
     "name": "stdout",
     "output_type": "stream",
     "text": [
      "[[1 1 1 sqrt(2) sqrt(2) sqrt(2) 0 0 0]\n",
      " [1 1 1 sqrt(2) sqrt(2) sqrt(2) 0 0 0]\n",
      " [1 1 1 sqrt(2) sqrt(2) sqrt(2) 0 0 0]\n",
      " [sqrt(2) sqrt(2) sqrt(2) 2 2 2 0 0 0]\n",
      " [sqrt(2) sqrt(2) sqrt(2) 2 2 2 0 0 0]\n",
      " [sqrt(2) sqrt(2) sqrt(2) 2 2 2 0 0 0]\n",
      " [0 0 0 0 0 0 0 0 0]\n",
      " [0 0 0 0 0 0 0 0 0]\n",
      " [0 0 0 0 0 0 0 0 0]]\n"
     ]
    }
   ],
   "source": [
    "ones_mandel9 = converter.to_mandel9(ones_tensor)\n",
    "print(ones_mandel9)"
   ]
  },
  {
   "cell_type": "markdown",
   "metadata": {},
   "source": [
    "### Symbolic with letters"
   ]
  },
  {
   "cell_type": "code",
   "execution_count": 6,
   "metadata": {
    "execution": {
     "iopub.execute_input": "2022-01-11T13:22:24.607065Z",
     "iopub.status.busy": "2022-01-11T13:22:24.606706Z",
     "iopub.status.idle": "2022-01-11T13:22:24.608382Z",
     "shell.execute_reply": "2022-01-11T13:22:24.608671Z"
    }
   },
   "outputs": [],
   "source": [
    "def tensor(\n",
    "    order=2, symbol=\"A\", dim=3, latex_index=False, kwargs_symbol={}, indice_offset=0\n",
    "):\n",
    "    A = np.zeros((dim,) * order, dtype=sp.Symbol)\n",
    "    for x in itertools.product(range(dim), repeat=order):\n",
    "        index = \"\".join(map(str, map(lambda x: x + indice_offset, x)))\n",
    "        if latex_index:\n",
    "            index = \"_{\" + index + \"}\"\n",
    "        A[x] = sp.Symbol(symbol + index, **kwargs_symbol)\n",
    "    return A"
   ]
  },
  {
   "cell_type": "code",
   "execution_count": 7,
   "metadata": {
    "execution": {
     "iopub.execute_input": "2022-01-11T13:22:24.611849Z",
     "iopub.status.busy": "2022-01-11T13:22:24.611535Z",
     "iopub.status.idle": "2022-01-11T13:22:24.613350Z",
     "shell.execute_reply": "2022-01-11T13:22:24.613032Z"
    }
   },
   "outputs": [],
   "source": [
    "def make_it_hooke_symmetric(A, dim=3):\n",
    "    for i in range(dim):\n",
    "        for j in range(dim):\n",
    "            for k in range(dim):\n",
    "                for m in range(dim):\n",
    "                    A[i, j, m, k] = A[i, j, k, m]\n",
    "                    A[j, i, m, k] = A[i, j, k, m]\n",
    "                    A[k, m, i, j] = A[i, j, k, m]\n",
    "    return A"
   ]
  },
  {
   "cell_type": "code",
   "execution_count": 8,
   "metadata": {
    "execution": {
     "iopub.execute_input": "2022-01-11T13:22:24.616496Z",
     "iopub.status.busy": "2022-01-11T13:22:24.616160Z",
     "iopub.status.idle": "2022-01-11T13:22:24.617631Z",
     "shell.execute_reply": "2022-01-11T13:22:24.617908Z"
    }
   },
   "outputs": [],
   "source": [
    "def make_it_left_symmetric(A, dim=3):\n",
    "    for i in range(dim):\n",
    "        for j in range(dim):\n",
    "            for k in range(dim):\n",
    "                for m in range(dim):\n",
    "                    A[j, i, k, m] = A[i, j, k, m]\n",
    "    return A"
   ]
  },
  {
   "cell_type": "code",
   "execution_count": 9,
   "metadata": {
    "execution": {
     "iopub.execute_input": "2022-01-11T13:22:24.620975Z",
     "iopub.status.busy": "2022-01-11T13:22:24.620616Z",
     "iopub.status.idle": "2022-01-11T13:22:24.622101Z",
     "shell.execute_reply": "2022-01-11T13:22:24.622348Z"
    }
   },
   "outputs": [],
   "source": [
    "def make_it_right_symmetric(A, dim=3):\n",
    "    for i in range(dim):\n",
    "        for j in range(dim):\n",
    "            for k in range(dim):\n",
    "                for m in range(dim):\n",
    "                    A[i, j, m, k] = A[i, j, k, m]\n",
    "    return A"
   ]
  },
  {
   "cell_type": "code",
   "execution_count": 10,
   "metadata": {
    "execution": {
     "iopub.execute_input": "2022-01-11T13:22:24.624897Z",
     "iopub.status.busy": "2022-01-11T13:22:24.624558Z",
     "iopub.status.idle": "2022-01-11T13:22:24.625968Z",
     "shell.execute_reply": "2022-01-11T13:22:24.626213Z"
    }
   },
   "outputs": [],
   "source": [
    "def make_it_minor_symmetric(A, dim=3):\n",
    "    tmp = make_it_left_symmetric(A)\n",
    "    tmp = make_it_right_symmetric(A)\n",
    "    return tmp"
   ]
  },
  {
   "cell_type": "code",
   "execution_count": 11,
   "metadata": {
    "execution": {
     "iopub.execute_input": "2022-01-11T13:22:24.630047Z",
     "iopub.status.busy": "2022-01-11T13:22:24.629718Z",
     "iopub.status.idle": "2022-01-11T13:22:24.631582Z",
     "shell.execute_reply": "2022-01-11T13:22:24.631830Z"
    }
   },
   "outputs": [
    {
     "name": "stdout",
     "output_type": "stream",
     "text": [
      "[[[[A1111 A1112 A1113]\n",
      "   [A1112 A1122 A1123]\n",
      "   [A1113 A1123 A1133]]\n",
      "\n",
      "  [[A1211 A1212 A1213]\n",
      "   [A1212 A1222 A1223]\n",
      "   [A1213 A1223 A1233]]\n",
      "\n",
      "  [[A1311 A1312 A1313]\n",
      "   [A1312 A1322 A1323]\n",
      "   [A1313 A1323 A1333]]]\n",
      "\n",
      "\n",
      " [[[A1211 A1212 A1213]\n",
      "   [A1212 A1222 A1223]\n",
      "   [A1213 A1223 A1233]]\n",
      "\n",
      "  [[A2211 A2212 A2213]\n",
      "   [A2212 A2222 A2223]\n",
      "   [A2213 A2223 A2233]]\n",
      "\n",
      "  [[A2311 A2312 A2313]\n",
      "   [A2312 A2322 A2323]\n",
      "   [A2313 A2323 A2333]]]\n",
      "\n",
      "\n",
      " [[[A1311 A1312 A1313]\n",
      "   [A1312 A1322 A1323]\n",
      "   [A1313 A1323 A1333]]\n",
      "\n",
      "  [[A2311 A2312 A2313]\n",
      "   [A2312 A2322 A2323]\n",
      "   [A2313 A2323 A2333]]\n",
      "\n",
      "  [[A3311 A3312 A3313]\n",
      "   [A3312 A3322 A3323]\n",
      "   [A3313 A3323 A3333]]]]\n"
     ]
    }
   ],
   "source": [
    "tensor = make_it_minor_symmetric(tensor(order=4, indice_offset=1))\n",
    "print(tensor)"
   ]
  },
  {
   "cell_type": "code",
   "execution_count": 12,
   "metadata": {
    "execution": {
     "iopub.execute_input": "2022-01-11T13:22:24.650132Z",
     "iopub.status.busy": "2022-01-11T13:22:24.649784Z",
     "iopub.status.idle": "2022-01-11T13:22:24.651685Z",
     "shell.execute_reply": "2022-01-11T13:22:24.651943Z"
    }
   },
   "outputs": [
    {
     "name": "stdout",
     "output_type": "stream",
     "text": [
      "[[A1111 A1122 A1133 sqrt(2)*A1123 sqrt(2)*A1113 sqrt(2)*A1112]\n",
      " [A2211 A2222 A2233 sqrt(2)*A2223 sqrt(2)*A2213 sqrt(2)*A2212]\n",
      " [A3311 A3322 A3333 sqrt(2)*A3323 sqrt(2)*A3313 sqrt(2)*A3312]\n",
      " [sqrt(2)*A2311 sqrt(2)*A2322 sqrt(2)*A2333 2*A2323 2*A2313 2*A2312]\n",
      " [sqrt(2)*A1311 sqrt(2)*A1322 sqrt(2)*A1333 2*A1323 2*A1313 2*A1312]\n",
      " [sqrt(2)*A1211 sqrt(2)*A1222 sqrt(2)*A1233 2*A1223 2*A1213 2*A1212]]\n"
     ]
    }
   ],
   "source": [
    "tensor_mandel6 = converter.to_mandel6(tensor)\n",
    "print(tensor_mandel6)"
   ]
  },
  {
   "cell_type": "code",
   "execution_count": 13,
   "metadata": {
    "execution": {
     "iopub.execute_input": "2022-01-11T13:22:24.662300Z",
     "iopub.status.busy": "2022-01-11T13:22:24.661978Z",
     "iopub.status.idle": "2022-01-11T13:22:24.663955Z",
     "shell.execute_reply": "2022-01-11T13:22:24.663687Z"
    }
   },
   "outputs": [
    {
     "name": "stdout",
     "output_type": "stream",
     "text": [
      "[[A1111 A1122 A1133 sqrt(2)*A1123 sqrt(2)*A1113 sqrt(2)*A1112 0 0 0]\n",
      " [A2211 A2222 A2233 sqrt(2)*A2223 sqrt(2)*A2213 sqrt(2)*A2212 0 0 0]\n",
      " [A3311 A3322 A3333 sqrt(2)*A3323 sqrt(2)*A3313 sqrt(2)*A3312 0 0 0]\n",
      " [sqrt(2)*A2311 sqrt(2)*A2322 sqrt(2)*A2333 2*A2323 2*A2313 2*A2312 0 0 0]\n",
      " [sqrt(2)*A1311 sqrt(2)*A1322 sqrt(2)*A1333 2*A1323 2*A1313 2*A1312 0 0 0]\n",
      " [sqrt(2)*A1211 sqrt(2)*A1222 sqrt(2)*A1233 2*A1223 2*A1213 2*A1212 0 0 0]\n",
      " [0 0 0 0 0 0 0 0 0]\n",
      " [0 0 0 0 0 0 0 0 0]\n",
      " [0 0 0 0 0 0 0 0 0]]\n"
     ]
    }
   ],
   "source": [
    "tensor_mandel9 = converter.to_mandel9(tensor)\n",
    "print(tensor_mandel9)"
   ]
  }
 ],
 "metadata": {
  "kernelspec": {
   "display_name": "Python 3",
   "language": "python",
   "name": "python3"
  },
  "language_info": {
   "codemirror_mode": {
    "name": "ipython",
    "version": 3
   },
   "file_extension": ".py",
   "mimetype": "text/x-python",
   "name": "python",
   "nbconvert_exporter": "python",
   "pygments_lexer": "ipython3",
   "version": "3.9.7"
  }
 },
 "nbformat": 4,
 "nbformat_minor": 2
}
